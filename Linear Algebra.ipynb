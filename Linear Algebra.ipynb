{
 "metadata": {
  "name": "",
  "signature": "sha256:cdf55fd3c28337a3ce4134bd211fcc20d2674eadb52913e466d0956e338d8c79"
 },
 "nbformat": 3,
 "nbformat_minor": 0,
 "worksheets": [
  {
   "cells": [
    {
     "cell_type": "code",
     "collapsed": false,
     "input": [
      "import matplotlib.pyplot as plt\n",
      "%matplotlib inline\n",
      "from sympy import *\n",
      "import numpy as np\n",
      "from numpy import mat, array, dot\n",
      "from numpy.linalg import norm, inv, pinv\n",
      "from IPython.display import YouTubeVideo"
     ],
     "language": "python",
     "metadata": {},
     "outputs": [],
     "prompt_number": 12
    },
    {
     "cell_type": "markdown",
     "metadata": {},
     "source": [
      "1. [Intro to Vectors](#here)\n",
      "    1. [Intro to Vectors](#here)\n",
      "    1. [Lengths and Dot Products](#here)\n",
      "    1. [Matrices](#here)\n",
      "1. [Solving Linear Equations](#here)\n",
      "    1. [Vectors and Linear Equations](#here)\n",
      "\n"
     ]
    },
    {
     "cell_type": "markdown",
     "metadata": {},
     "source": [
      "# Intro to Vectors"
     ]
    },
    {
     "cell_type": "markdown",
     "metadata": {},
     "source": [
      "## Lengths Dot Products"
     ]
    },
    {
     "cell_type": "markdown",
     "metadata": {},
     "source": [
      "$\\mathbf{v \\cdot w} = v_1w_1 + v_2w_2$\n",
      "\n",
      "if $\\mathbf{v \\cdot w} = v_1w_1 + v_2w_2=0$\n",
      "\n",
      "$\\mathbf{v}$ and $\\mathbf{w}$ are $\\perp$\n",
      "\n",
      "---\n",
      "\n",
      "$\\mathbf{v \\cdot w} = \\mathbf{w \\cdot v}$\n",
      "\n",
      "more dot-product\n",
      "\n",
      "$\\sum v_iw_i = \\mathbf{v \\cdot w}$\n",
      "\n",
      "$\\|\\mathbf{v}\\|^2 = \\mathbf{v \\cdot v}$\n",
      "\n",
      "length $\\|\\mathbf{v}\\| = \\sqrt{\\mathbf{v \\cdot v}}$\n",
      "\n",
      "---"
     ]
    },
    {
     "cell_type": "markdown",
     "metadata": {},
     "source": [
      "### Unit Vectors\n",
      "$\\mathbf{u \\cdot u}=1$\n",
      "\n",
      "$\\mathbf{u}$ is a unit vector"
     ]
    },
    {
     "cell_type": "markdown",
     "metadata": {},
     "source": [
      "$\\mathbf{i}=\\begin{bmatrix} 1  \\\\0 \\end{bmatrix}$ $\\mathbf{j}=\\begin{bmatrix} 0  \\\\1 \\end{bmatrix}$ $\\mathbf{u}=\\begin{bmatrix} \\cos \\theta  \\\\ \\sin\\theta \\end{bmatrix}$\n",
      "\n",
      "$\\mathbf{u}$ is the unit vector that makes angle $\\theta$ with the $x$ axis\n",
      "\n",
      "---\n",
      "\n",
      "To get a unit vector, divide any $\\mathbf{v}$ by it's length $\\|\\mathbf{v}\\|$\n"
     ]
    },
    {
     "cell_type": "markdown",
     "metadata": {},
     "source": [
      "### The angle between two vectors"
     ]
    },
    {
     "cell_type": "markdown",
     "metadata": {},
     "source": [
      "$\\mathbf{v \\cdot w} = v_1w_1 + v_2w_2=0$ when $\\mathbf{v}$ and $\\mathbf{u}$ are $\\perp$\n",
      "\n",
      "The vector $\\mathbf{v} = 0$ is $\\perp$ to all vectors because $\\mathbf{v \\cdot 0}$ is always 0."
     ]
    },
    {
     "cell_type": "markdown",
     "metadata": {},
     "source": [
      "$\n",
      "\\begin{cases}\n",
      "\\mathbf{v\\cdot w}>0,&\\theta < 90^{\\circ}\\\\\n",
      "\\mathbf{v\\cdot w}<0,&\\theta > 90^{\\circ}\\\\\n",
      "\\mathbf{v\\cdot w}=0,&\\theta = 90^{\\circ}\\\\\n",
      "\\end{cases}\n",
      "$\n"
     ]
    },
    {
     "cell_type": "code",
     "collapsed": false,
     "input": [
      "x = symbols('x')\n",
      "fx = cos(x)\n",
      "fx\n",
      "plot(fx, xlim = [-3.14, 3.14]);"
     ],
     "language": "python",
     "metadata": {},
     "outputs": [
      {
       "metadata": {},
       "output_type": "display_data",
       "png": "[encoded data removed]",
       "text": [
        "<matplotlib.figure.Figure at 0x1116b07d0>"
       ]
      }
     ],
     "prompt_number": 50
    },
    {
     "cell_type": "markdown",
     "metadata": {},
     "source": [
      "\n",
      "Unit vectors $\\mathbf{u}$ and $\\mathbf{U}$ at angle $\\theta$ have $\\mathbf{u \\cdot U} = \\cos \\theta$\n",
      "\n",
      "The dotproduct of unit vectors is $[-1, 1]$\n",
      "\n",
      "\n",
      "What if $\\mathbf{v \\text{ & } w}$ are not unit vectors? Divide by their length to get thei respsective unit vectors\n",
      "\n",
      "$\\dfrac{\\mathbf{v\\cdot w}}{\\|w\\|\\|v\\|} = \\cos \\theta$\n",
      "\n",
      "$\\therefore$\n",
      "\n",
      "$\\mathbf{|v \\cdot w|} < \\mathbf{\\|v\\|\\|w\\|}$\n",
      "\n",
      "and \n",
      "\n",
      "$\\mathbf{\\|v + w}\\| < \\mathbf{\\|v\\|+\\|w\\|}$\n",
      "\n"
     ]
    },
    {
     "cell_type": "code",
     "collapsed": false,
     "input": [
      "v = array([1, 2, 3])\n",
      "w = array([1, 1, 1])"
     ],
     "language": "python",
     "metadata": {},
     "outputs": [],
     "prompt_number": 51
    },
    {
     "cell_type": "code",
     "collapsed": false,
     "input": [
      "np.dot(v, w)"
     ],
     "language": "python",
     "metadata": {},
     "outputs": [
      {
       "metadata": {},
       "output_type": "pyout",
       "prompt_number": 52,
       "text": [
        "6"
       ]
      }
     ],
     "prompt_number": 52
    },
    {
     "cell_type": "code",
     "collapsed": false,
     "input": [
      "np.linalg.norm(v)"
     ],
     "language": "python",
     "metadata": {},
     "outputs": [
      {
       "metadata": {},
       "output_type": "pyout",
       "prompt_number": 54,
       "text": [
        "3.74165738677"
       ]
      }
     ],
     "prompt_number": 54
    },
    {
     "cell_type": "code",
     "collapsed": false,
     "input": [
      "sum([_**2 for _ in v])**0.5"
     ],
     "language": "python",
     "metadata": {},
     "outputs": [
      {
       "metadata": {},
       "output_type": "pyout",
       "prompt_number": 57,
       "text": [
        "3.74165738677"
       ]
      }
     ],
     "prompt_number": 57
    },
    {
     "cell_type": "code",
     "collapsed": false,
     "input": [
      "# cosine theta between w and v\n",
      "dot(v, w)/(norm(v) * norm(w))"
     ],
     "language": "python",
     "metadata": {},
     "outputs": [
      {
       "metadata": {},
       "output_type": "pyout",
       "prompt_number": 58,
       "text": [
        "0.925820099773"
       ]
      }
     ],
     "prompt_number": 58
    },
    {
     "cell_type": "code",
     "collapsed": false,
     "input": [
      "# theta between w and v\n",
      "acos(dot(v, w)/(norm(v) * norm(w)))"
     ],
     "language": "python",
     "metadata": {},
     "outputs": [
      {
       "metadata": {},
       "output_type": "pyout",
       "prompt_number": 60,
       "text": [
        "0.387596686655180"
       ]
      }
     ],
     "prompt_number": 60
    },
    {
     "cell_type": "code",
     "collapsed": false,
     "input": [
      "init_printing(pretty_print=False)\n",
      "v = array([3, 4])\n",
      "w = array([4, 3])\n",
      "dot(v, w)/(norm(v) * norm(w))\n"
     ],
     "language": "python",
     "metadata": {},
     "outputs": [
      {
       "metadata": {},
       "output_type": "pyout",
       "prompt_number": 67,
       "text": [
        "0.96"
       ]
      }
     ],
     "prompt_number": 67
    },
    {
     "cell_type": "markdown",
     "metadata": {},
     "source": [
      "## Matrices"
     ]
    },
    {
     "cell_type": "markdown",
     "metadata": {},
     "source": [
      "**difference matrix**\n",
      "\n",
      "$\\mathbf{Ax} = \n",
      "\\begin{bmatrix} \n",
      "1& 0& 0 \\\\\n",
      "-1& 1& 0 \\\\ \n",
      "0& -1& -1 \\\\ \n",
      "\\end{bmatrix}\n",
      "\\begin{bmatrix} \n",
      "x_1 \\\\\n",
      "x_2 \\\\ \n",
      "x_3 \\\\ \n",
      "\\end{bmatrix}=\n",
      "\\begin{bmatrix} \n",
      "\\mathbf{x_1} \\\\\n",
      "\\mathbf{x_2 - x_1} \\\\ \n",
      "\\mathbf{x_3 - x_2} \\\\\n",
      "\\end{bmatrix}=\n",
      "\\begin{bmatrix} \n",
      "b_1 \\\\\n",
      "b_2 \\\\ \n",
      "b_3 \\\\\n",
      "\\end{bmatrix}=\n",
      "\\mathbf{b}\n",
      "$ "
     ]
    },
    {
     "cell_type": "markdown",
     "metadata": {},
     "source": [
      "**matrix times vector**\n",
      "\n",
      "$\\mathbf{Ax} = \n",
      "\\begin{bmatrix} \n",
      " \\\\\n",
      "\\mathbf{u}& \\mathbf{v}& \\mathbf{w} \\\\ \n",
      " \\\\ \n",
      "\\end{bmatrix}\n",
      "\\begin{bmatrix} \n",
      "c\\\\d\\\\e\\\\\n",
      "\\end{bmatrix}=c\\mathbf{u} + d\\mathbf{v} + e\\mathbf{w}\n",
      "$"
     ]
    },
    {
     "cell_type": "markdown",
     "metadata": {},
     "source": [
      "** dot products with rows **"
     ]
    },
    {
     "cell_type": "markdown",
     "metadata": {},
     "source": [
      "$\\mathbf{Ax} = \n",
      "\\begin{bmatrix} \n",
      "1&0&0\\\\\n",
      "-1&0&0\\\\\n",
      "0&-1&1\\\\ \n",
      "\\end{bmatrix}\n",
      "\\begin{bmatrix} \n",
      "x_1 \\\\\n",
      "x_2 \\\\ \n",
      "x_3 \\\\ \n",
      "\\end{bmatrix}=\n",
      "\\begin{bmatrix} \n",
      "(1, 0, 0)\\cdot (x_1, x_2, x_3) \\\\\n",
      "(-1, 1, 0)\\cdot (x_1, x_2, x_3) \\\\\n",
      "(0, -1, 1)\\cdot (x_1, x_2, x_3) \\\\\n",
      "\\end{bmatrix}\n",
      "$"
     ]
    },
    {
     "cell_type": "markdown",
     "metadata": {},
     "source": [
      "Column form way. Easiest to remember probably:\n",
      "\n",
      "$\\mathbf{Ax} = \n",
      "\\begin{bmatrix} \n",
      "1&0&0\\\\\n",
      "-1&0&0\\\\\n",
      "0&-1&1\\\\ \n",
      "\\end{bmatrix}\n",
      "\\begin{bmatrix} \n",
      "x_1 \\\\\n",
      "x_2 \\\\ \n",
      "x_3 \\\\ \n",
      "\\end{bmatrix}=\n",
      "x_1\n",
      "\\begin{bmatrix} \n",
      "1\\\\-1\\\\0\\\\ \n",
      "\\end{bmatrix}+\n",
      "x_2\n",
      "\\begin{bmatrix} \n",
      "0\\\\0\\\\-1\\\\ \n",
      "\\end{bmatrix}+\n",
      "x_3\n",
      "\\begin{bmatrix} \n",
      "0\\\\0\\\\1\\\\ \n",
      "\\end{bmatrix}\n",
      "$"
     ]
    },
    {
     "cell_type": "markdown",
     "metadata": {},
     "source": [
      "**Linear Equations**"
     ]
    },
    {
     "cell_type": "markdown",
     "metadata": {},
     "source": [
      "Up till now looking at equations in the form\n",
      "\n",
      "$\\mathbf{Ax = b}$\n",
      "\n",
      "\n",
      "Now let's switch it up so \n",
      "\n",
      "$\\mathbf{b = Ax}$ where $\\mathbf{x}$ is the unknown"
     ]
    },
    {
     "cell_type": "markdown",
     "metadata": {},
     "source": [
      "### Inverse Matrix"
     ]
    },
    {
     "cell_type": "markdown",
     "metadata": {},
     "source": [
      "$\\mathbf{Ax = b}$ is solved by \n",
      "\n",
      "$\\mathbf{x = A^{-1}b = Sb}$"
     ]
    },
    {
     "cell_type": "markdown",
     "metadata": {},
     "source": [
      "# Solving Linear Equations"
     ]
    },
    {
     "cell_type": "markdown",
     "metadata": {},
     "source": [
      "## Vectors and Linear Equations"
     ]
    },
    {
     "cell_type": "markdown",
     "metadata": {},
     "source": [
      "The central problem of linear algebra is to solve a system of equations"
     ]
    },
    {
     "cell_type": "markdown",
     "metadata": {},
     "source": [
      "matrix x column = column\n",
      "\n",
      "row x matrix = row"
     ]
    },
    {
     "cell_type": "markdown",
     "metadata": {},
     "source": [
      "**Step 1**\n",
      "\n",
      "$E_{21} = \n",
      "\\begin{bmatrix} \n",
      "1&0&0\\\\\n",
      "-3&1&0\\\\\n",
      "0&0&1\\\\ \n",
      "\\end{bmatrix}$\n",
      "\n",
      "\n",
      "$\\begin{bmatrix} \n",
      "1&0&0\\\\\n",
      "-3&1&0\\\\\n",
      "0&0&1\\\\ \n",
      "\\end{bmatrix}\n",
      "\\begin{bmatrix} \n",
      "1&2&1\\\\\n",
      "3&8&1\\\\\n",
      "0&4&1\\\\ \n",
      "\\end{bmatrix}=\n",
      "\\begin{bmatrix} \n",
      "1&2&1\\\\\n",
      "0&2&-2\\\\\n",
      "0&4&1\\\\ \n",
      "\\end{bmatrix}$\n",
      "\n",
      "Let's check index(2, 3) = -2. It comes from the dot product of the 2nd row of the first matrix and the first column of the second matrix"
     ]
    },
    {
     "cell_type": "code",
     "collapsed": false,
     "input": [
      "-3*1 + 1*1 + 0*1"
     ],
     "language": "python",
     "metadata": {},
     "outputs": [
      {
       "metadata": {},
       "output_type": "pyout",
       "prompt_number": 85,
       "text": [
        "-2"
       ]
      }
     ],
     "prompt_number": 85
    },
    {
     "cell_type": "markdown",
     "metadata": {},
     "source": [
      "**Step 2**\n",
      "\n",
      "$\n",
      "E_{32}=\\begin{bmatrix} \n",
      "1&0&0\\\\\n",
      "0&1&0\\\\\n",
      "0&-2&1\\\\ \n",
      "\\end{bmatrix}$\n",
      "\n",
      "\n",
      "$\\begin{bmatrix} \n",
      "1&0&0\\\\\n",
      "0&1&0\\\\\n",
      "0&-2&1\\\\ \n",
      "\\end{bmatrix}\n",
      "\\begin{bmatrix} \n",
      "1&2&1\\\\\n",
      "0&2&-2\\\\\n",
      "0&4&1\\\\ \n",
      "\\end{bmatrix}=\n",
      "\\begin{bmatrix} \n",
      "1&2&1\\\\\n",
      "0&2&-2\\\\\n",
      "0&0&5\\\\ \n",
      "\\end{bmatrix}$"
     ]
    },
    {
     "cell_type": "markdown",
     "metadata": {},
     "source": [
      "This is what we did to get $\\mathbf{U}$, which is the upper triangle matrix\n",
      "\n",
      "$\\mathbf{E_{32}(E_{21}A)=U}$\n",
      "\n",
      "$\\mathbf{(E_{32}E_{21})A=U}$\n",
      "\n",
      "You can't mess around with the order of the matrices, but you can mess around with the parenthesis. \n",
      "\n",
      "$\\mathbf{AB \\neq BA}$"
     ]
    },
    {
     "cell_type": "markdown",
     "metadata": {},
     "source": [
      "** Permutation Matrix**\n",
      "\n",
      "$\\mathbf{p}=\\begin{bmatrix} \n",
      "0&1\\\\\n",
      "1&0\\\\\n",
      "\\end{bmatrix}\n",
      "$\n",
      "\n",
      "$\\mathbf{p}$ for permutation matrix\n",
      "\n",
      "\n",
      "$\\begin{bmatrix} \n",
      "0&1\\\\\n",
      "1&0\\\\\n",
      "\\end{bmatrix}\n",
      "\\begin{bmatrix} \n",
      "a&b\\\\\n",
      "c&d\\\\\n",
      "\\end{bmatrix}=\n",
      "\\begin{bmatrix} \n",
      "c&d\\\\\n",
      "a&b\\\\ \n",
      "\\end{bmatrix}$\n",
      "\n",
      "$\\mathbf{B}\n",
      "\\begin{bmatrix} \n",
      "a&b\\\\\n",
      "c&d\\\\\n",
      "\\end{bmatrix}=\n",
      "\\begin{bmatrix} \n",
      "b&a\\\\\n",
      "d&c\\\\ \n",
      "\\end{bmatrix}$\n",
      "\n",
      "$\\mathbf{B}$ does not exist. If you want to do exercise column-wise, you have to put the matrix on the right.\n",
      "\n",
      "---\n",
      "\n",
      "$\n",
      "\\begin{bmatrix} \n",
      "a&b\\\\\n",
      "c&d\\\\\n",
      "\\end{bmatrix}\n",
      "\\mathbf{B}\n",
      "=\n",
      "\\begin{bmatrix} \n",
      "b&a\\\\\n",
      "d&c\\\\ \n",
      "\\end{bmatrix}\n",
      "$\n",
      "\n",
      "$\n",
      "\\begin{bmatrix} \n",
      "a&b\\\\\n",
      "c&d\\\\\n",
      "\\end{bmatrix}\n",
      "\\begin{bmatrix} \n",
      "0&1\\\\\n",
      "1&0\\\\\n",
      "\\end{bmatrix}\n",
      "=\n",
      "\\begin{bmatrix} \n",
      "b&a\\\\\n",
      "d&c\\\\ \n",
      "\\end{bmatrix}\n",
      "$"
     ]
    },
    {
     "cell_type": "markdown",
     "metadata": {},
     "source": [
      "Think not about how to get from $\\mathbf{A \\to U}$, instead think about $\\mathbf{U \\to A}$\n",
      "\n",
      "Think about the inverse matrix.\n",
      "\n",
      "$\\mathbf{AA^{-1} = I}$\n",
      "\n",
      "$\\mathbf{I} = \\begin{bmatrix}\n",
      "1&0&0\\\\\n",
      "0&1&0\\\\\n",
      "0&0&1\\\\\n",
      "\\end{bmatrix}$"
     ]
    },
    {
     "cell_type": "markdown",
     "metadata": {},
     "source": [
      "### Multiplying Matrices"
     ]
    },
    {
     "cell_type": "code",
     "collapsed": false,
     "input": [
      "vid = 'OMA2Mwo0aZg'\n",
      "YouTubeVideo(vid, width='600', height='400')"
     ],
     "language": "python",
     "metadata": {},
     "outputs": [
      {
       "html": [
        "\n",
        "        <iframe\n",
        "            width=\"600\"\n",
        "            height=400\"\n",
        "            src=\"https://www.youtube.com/embed/OMA2Mwo0aZg\"\n",
        "            frameborder=\"0\"\n",
        "            allowfullscreen\n",
        "        ></iframe>\n",
        "        "
       ],
       "metadata": {},
       "output_type": "pyout",
       "prompt_number": 94,
       "text": [
        "<IPython.lib.display.YouTubeVideo at 0x1117f3490>"
       ]
      }
     ],
     "prompt_number": 94
    },
    {
     "cell_type": "markdown",
     "metadata": {},
     "source": [
      "$\\mathbf{E} = \\begin{bmatrix}\n",
      "0&3&5\\\\\n",
      "5&5&2\\\\\n",
      "\\end{bmatrix}$\n",
      "$\\mathbf{D} = \\begin{bmatrix}\n",
      "3&4\\\\\n",
      "3&-2\\\\\n",
      "4&-2\\\\\n",
      "\\end{bmatrix}$\n",
      "\n",
      "What is $\\mathbf{ED}$?\n",
      "\n",
      "What is $\\mathbf{E}$ is 2x3.\n",
      "\n",
      "What is $\\mathbf{D}$ is 3x2.\n",
      "\n",
      "So we can do this because columns of the second one are equal to the rows of the first one.\n",
      "\n",
      "In the end we get a 2x2 matrix.\n",
      "\n",
      "for the index $ij$, get the $i^{th}$ row from $\\mathbf{E}$, and the $j^{th}$ column from $\\mathbf{D}$\n",
      "\n",
      "$\\mathbf{E\\cdot D} = \\begin{bmatrix}\n",
      "\\text{dot(1st row E & 1st column E)}&\\text{dot(1st row E & 2nd column E)}\\\\\n",
      "\\text{dot(2nd row E & 1st column E)}&\\text{dot(2nd row E & 2nd column E)}\\\\\n",
      "\\end{bmatrix}$\n",
      "\n",
      "$\\mathbf{E\\cdot D} = \\begin{bmatrix}\n",
      "0\\cdot 3 + 3 \\cdot 3 + 5 \\cdot 4&\n",
      "0\\cdot 4 + 3 \\cdot -2 + 5 \\cdot -2&\n",
      "\\\\\n",
      "5\\cdot 3 + 5 \\cdot 3 + 2 \\cdot 4&\n",
      "5\\cdot 4 + 5 \\cdot -2 + 2 \\cdot -2&\n",
      "\\\\\n",
      "\\end{bmatrix}$\n",
      "\n",
      "$\\mathbf{E\\cdot D} = \\begin{bmatrix}\n",
      "29&-16&\\\\\n",
      "38&-6&\\\\\n",
      "\\end{bmatrix}$\n"
     ]
    },
    {
     "cell_type": "code",
     "collapsed": false,
     "input": [
      "init_printing()\n",
      "E = array([[0, 3, 5], [5, 5 ,2]])\n",
      "Matrix(E)"
     ],
     "language": "python",
     "metadata": {},
     "outputs": [
      {
       "latex": [
        "$$\\left[\\begin{matrix}0 & 3 & 5\\\\5 & 5 & 2\\end{matrix}\\right]$$"
       ],
       "metadata": {},
       "output_type": "pyout",
       "png": "[encoded data removed]",
       "prompt_number": 116,
       "text": [
        "\u23a10  3  5\u23a4\n",
        "\u23a2       \u23a5\n",
        "\u23a35  5  2\u23a6"
       ]
      }
     ],
     "prompt_number": 116
    },
    {
     "cell_type": "code",
     "collapsed": false,
     "input": [
      "D = array([[3, 4], [3, -2], [4, -2]])\n",
      "Matrix(D)"
     ],
     "language": "python",
     "metadata": {},
     "outputs": [
      {
       "latex": [
        "$$\\left[\\begin{matrix}3 & 4\\\\3 & -2\\\\4 & -2\\end{matrix}\\right]$$"
       ],
       "metadata": {},
       "output_type": "pyout",
       "png": "[encoded data removed]",
       "prompt_number": 120,
       "text": [
        "\u23a13  4 \u23a4\n",
        "\u23a2     \u23a5\n",
        "\u23a23  -2\u23a5\n",
        "\u23a2     \u23a5\n",
        "\u23a34  -2\u23a6"
       ]
      }
     ],
     "prompt_number": 120
    },
    {
     "cell_type": "code",
     "collapsed": false,
     "input": [
      "Matrix(np.dot(E, D))"
     ],
     "language": "python",
     "metadata": {},
     "outputs": [
      {
       "latex": [
        "$$\\left[\\begin{matrix}29 & -16\\\\38 & 6\\end{matrix}\\right]$$"
       ],
       "metadata": {},
       "output_type": "pyout",
       "png": "[encoded data removed]",
       "prompt_number": 123,
       "text": [
        "\u23a129  -16\u23a4\n",
        "\u23a2       \u23a5\n",
        "\u23a338   6 \u23a6"
       ]
      }
     ],
     "prompt_number": 123
    },
    {
     "cell_type": "markdown",
     "metadata": {},
     "source": [
      "## Ways to multiply a matrix\n",
      "\n",
      "$\\mathbf{AB=C}$\n",
      "\n",
      "$\\mathbf{A}: m \\times n$\n",
      "\n",
      "$\\mathbf{B}: n \\times p$\n",
      "\n",
      "$\\mathbf{C}: m \\times p$\n",
      "\n",
      "---\n",
      "\n",
      "$C_{ij} = \\mathbf{A_i} \\cdot \\mathbf{B_j}$\n",
      "\n",
      "$C_{34}$ = dot product(3rd row $\\mathbf{A}$, 4th column $\\mathbf{B}$)\n",
      "\n",
      "$C_{34} = a_{31}b_{14} + a_{32}b_{24}... = \\sum\\limits_{k=1}^n a_{3k}b_{k4}$\n",
      "\n"
     ]
    },
    {
     "cell_type": "markdown",
     "metadata": {},
     "source": [
      "$\\mathbf{AB=C}$\n",
      "\n",
      "$\\mathbf{A}: m \\times n$\n",
      "\n",
      "$\\mathbf{B}: n \\times p$\n",
      "\n",
      "$\\mathbf{C}: m \\times p$\n"
     ]
    },
    {
     "cell_type": "markdown",
     "metadata": {},
     "source": [
      "$\n",
      "\\begin{bmatrix} \n",
      "\\\\\n",
      "&\\mathbf{A}&\\\\\n",
      "\\\\\\end{bmatrix}\n",
      "\\begin{bmatrix} \n",
      "\\\\\n",
      "&\\mathbf{B}&\\\\\n",
      "\\\\\\end{bmatrix}=\n",
      "\\begin{bmatrix} \n",
      "\\\\\n",
      "&\\mathbf{C}&\n",
      "\\\\\n",
      "\\\\\\end{bmatrix}$"
     ]
    },
    {
     "cell_type": "markdown",
     "metadata": {},
     "source": [
      "Rows of $\\mathbf{C}$ are combinations of rows of $\\mathbf{B}$\n",
      "\n",
      "Columns of $\\mathbf{C}$ are combinations of rows of $\\mathbf{A}$\n",
      "\n",
      "---\n",
      "\n",
      "Column of $\\mathbf{A}$ $\\times$ row of $\\mathbf{B}$\n",
      "\n",
      "$m\\times 1$ and $1 \\times p = m \\times p$\n",
      "\n",
      "$\n",
      "\\begin{bmatrix} \n",
      "2\\\\\n",
      "3\\\\\n",
      "4\\\\\n",
      "\\end{bmatrix}\n",
      "\\begin{bmatrix} \n",
      "1&6\\\\\n",
      "\\end{bmatrix}=\n",
      "\\begin{bmatrix} \n",
      "2&12\\\\\n",
      "3&18\\\\\n",
      "4&24\\\\\n",
      "\\end{bmatrix}$\n",
      "\n",
      "The columns are combinations of the first one.\n",
      "\n",
      "The rows are combinations of the second one!\n",
      "\n",
      "$\\mathbf{AB}$ = sum  of (cols of $\\mathbf{A}) \\times$ (rows of $\\mathbf{B})$\n",
      "\n",
      "$\n",
      "\\begin{bmatrix} \n",
      "2&7\\\\\n",
      "3&8\\\\\n",
      "4&9\\\\\n",
      "\\end{bmatrix}\n",
      "\\begin{bmatrix} \n",
      "1&6\\\\\n",
      "0&0\\\\\n",
      "\\end{bmatrix}=\n",
      "\\begin{bmatrix} \n",
      "2\\\\3\\\\4\\\\\n",
      "\\end{bmatrix}\n",
      "\\begin{bmatrix} \n",
      "1&6\\\\\n",
      "\\end{bmatrix}+\n",
      "\\begin{bmatrix} \n",
      "7\\\\8\\\\9\\\\\n",
      "\\end{bmatrix}\n",
      "\\begin{bmatrix} \n",
      "0&0\\\\\n",
      "\\end{bmatrix}=\n",
      "\\begin{bmatrix} \n",
      "0&0\\\\\n",
      "\\end{bmatrix}$"
     ]
    },
    {
     "cell_type": "markdown",
     "metadata": {},
     "source": [
      "$\n",
      "\\begin{bmatrix} \n",
      "2&12\\\\\n",
      "3&18\\\\\n",
      "4&24\\\\\n",
      "\\end{bmatrix}+\n",
      "\\begin{bmatrix} \n",
      "0&0\\\\\n",
      "0&0\\\\\n",
      "0&0\\\\\n",
      "\\end{bmatrix}=\n",
      "\\begin{bmatrix} \n",
      "2&12\\\\\n",
      "3&18\\\\\n",
      "4&24\\\\\n",
      "\\end{bmatrix}\n",
      "$\n",
      "\n",
      "all the rows lie on the vector $[1, 6]$\n",
      "\n",
      "all the colums lie on the vector $[2, 3, 4]$"
     ]
    },
    {
     "cell_type": "code",
     "collapsed": false,
     "input": [
      "a =array([[2, 7], [3, 8], [4, 9]])\n",
      "b =array([[1, 6], [0, 0]])\n",
      "Matrix(a), Matrix(b)"
     ],
     "language": "python",
     "metadata": {},
     "outputs": [
      {
       "latex": [
        "$$\\begin{pmatrix}\\left[\\begin{matrix}2 & 7\\\\3 & 8\\\\4 & 9\\end{matrix}\\right], & \\left[\\begin{matrix}1 & 6\\\\0 & 0\\end{matrix}\\right]\\end{pmatrix}$$"
       ],
       "metadata": {},
       "output_type": "pyout",
       "png": "[encoded data removed]",
       "prompt_number": 136,
       "text": [
        "\u239b\u23a12  7\u23a4, \u23a11  6\u23a4\u239e\n",
        "\u239c\u23a2    \u23a5  \u23a2    \u23a5\u239f\n",
        "\u239c\u23a23  8\u23a5  \u23a30  0\u23a6\u239f\n",
        "\u239c\u23a2    \u23a5        \u239f\n",
        "\u239d\u23a34  9\u23a6        \u23a0"
       ]
      }
     ],
     "prompt_number": 136
    },
    {
     "cell_type": "code",
     "collapsed": false,
     "input": [
      "Matrix(dot(a, b))"
     ],
     "language": "python",
     "metadata": {},
     "outputs": [
      {
       "latex": [
        "$$\\left[\\begin{matrix}2 & 12\\\\3 & 18\\\\4 & 24\\end{matrix}\\right]$$"
       ],
       "metadata": {},
       "output_type": "pyout",
       "png": "[encoded data removed]",
       "prompt_number": 137,
       "text": [
        "\u23a12  12\u23a4\n",
        "\u23a2     \u23a5\n",
        "\u23a23  18\u23a5\n",
        "\u23a2     \u23a5\n",
        "\u23a34  24\u23a6"
       ]
      }
     ],
     "prompt_number": 137
    },
    {
     "cell_type": "markdown",
     "metadata": {},
     "source": [
      "### Inverses"
     ]
    },
    {
     "cell_type": "markdown",
     "metadata": {},
     "source": [
      "$\\mathbf{A^{-1}A} = I = \\mathbf{AA^{-1}}$, for a square matrix\n",
      "\n",
      "If $\\mathbf{A^{-1}}$ exists, it's called invertible or nonsingular"
     ]
    },
    {
     "cell_type": "markdown",
     "metadata": {},
     "source": [
      "### Singular case\n",
      "\n",
      "No inverse\n",
      "\n",
      "Example of singular matrix:\n",
      "\n",
      "$\\mathbf{A}=\n",
      "\\begin{bmatrix}\n",
      "1&3\\\\\n",
      "2&6\\\\\n",
      "\\end{bmatrix}\n",
      "$"
     ]
    },
    {
     "cell_type": "code",
     "collapsed": false,
     "input": [
      "a = np.array([[1, 3], [2, 6]])\n",
      "Matrix(a)"
     ],
     "language": "python",
     "metadata": {},
     "outputs": [
      {
       "latex": [
        "$$\\left[\\begin{matrix}1 & 3\\\\2 & 6\\end{matrix}\\right]$$"
       ],
       "metadata": {},
       "output_type": "pyout",
       "png": "[encoded data removed]",
       "prompt_number": 10,
       "text": [
        "\u23a11  3\u23a4\n",
        "\u23a2    \u23a5\n",
        "\u23a32  6\u23a6"
       ]
      }
     ],
     "prompt_number": 10
    },
    {
     "cell_type": "code",
     "collapsed": false,
     "input": [
      "inv(a)"
     ],
     "language": "python",
     "metadata": {},
     "outputs": [
      {
       "ename": "LinAlgError",
       "evalue": "Singular matrix",
       "output_type": "pyerr",
       "traceback": [
        "\u001b[0;31m---------------------------------------------------------------------------\u001b[0m\n\u001b[0;31mLinAlgError\u001b[0m                               Traceback (most recent call last)",
        "\u001b[0;32m<ipython-input-19-2a8690952bbf>\u001b[0m in \u001b[0;36m<module>\u001b[0;34m()\u001b[0m\n\u001b[0;32m----> 1\u001b[0;31m \u001b[0minv\u001b[0m\u001b[0;34m(\u001b[0m\u001b[0ma\u001b[0m\u001b[0;34m)\u001b[0m\u001b[0;34m\u001b[0m\u001b[0m\n\u001b[0m",
        "\u001b[0;32m/Users/idris/.virtualenvs/linalg/lib/python2.7/site-packages/numpy/linalg/linalg.pyc\u001b[0m in \u001b[0;36minv\u001b[0;34m(a)\u001b[0m\n\u001b[1;32m    518\u001b[0m     \u001b[0msignature\u001b[0m \u001b[0;34m=\u001b[0m \u001b[0;34m'D->D'\u001b[0m \u001b[0;32mif\u001b[0m \u001b[0misComplexType\u001b[0m\u001b[0;34m(\u001b[0m\u001b[0mt\u001b[0m\u001b[0;34m)\u001b[0m \u001b[0;32melse\u001b[0m \u001b[0;34m'd->d'\u001b[0m\u001b[0;34m\u001b[0m\u001b[0m\n\u001b[1;32m    519\u001b[0m     \u001b[0mextobj\u001b[0m \u001b[0;34m=\u001b[0m \u001b[0mget_linalg_error_extobj\u001b[0m\u001b[0;34m(\u001b[0m\u001b[0m_raise_linalgerror_singular\u001b[0m\u001b[0;34m)\u001b[0m\u001b[0;34m\u001b[0m\u001b[0m\n\u001b[0;32m--> 520\u001b[0;31m     \u001b[0mainv\u001b[0m \u001b[0;34m=\u001b[0m \u001b[0m_umath_linalg\u001b[0m\u001b[0;34m.\u001b[0m\u001b[0minv\u001b[0m\u001b[0;34m(\u001b[0m\u001b[0ma\u001b[0m\u001b[0;34m,\u001b[0m \u001b[0msignature\u001b[0m\u001b[0;34m=\u001b[0m\u001b[0msignature\u001b[0m\u001b[0;34m,\u001b[0m \u001b[0mextobj\u001b[0m\u001b[0;34m=\u001b[0m\u001b[0mextobj\u001b[0m\u001b[0;34m)\u001b[0m\u001b[0;34m\u001b[0m\u001b[0m\n\u001b[0m\u001b[1;32m    521\u001b[0m     \u001b[0;32mreturn\u001b[0m \u001b[0mwrap\u001b[0m\u001b[0;34m(\u001b[0m\u001b[0mainv\u001b[0m\u001b[0;34m.\u001b[0m\u001b[0mastype\u001b[0m\u001b[0;34m(\u001b[0m\u001b[0mresult_t\u001b[0m\u001b[0;34m)\u001b[0m\u001b[0;34m)\u001b[0m\u001b[0;34m\u001b[0m\u001b[0m\n\u001b[1;32m    522\u001b[0m \u001b[0;34m\u001b[0m\u001b[0m\n",
        "\u001b[0;32m/Users/idris/.virtualenvs/linalg/lib/python2.7/site-packages/numpy/linalg/linalg.pyc\u001b[0m in \u001b[0;36m_raise_linalgerror_singular\u001b[0;34m(err, flag)\u001b[0m\n\u001b[1;32m     88\u001b[0m \u001b[0;34m\u001b[0m\u001b[0m\n\u001b[1;32m     89\u001b[0m \u001b[0;32mdef\u001b[0m \u001b[0m_raise_linalgerror_singular\u001b[0m\u001b[0;34m(\u001b[0m\u001b[0merr\u001b[0m\u001b[0;34m,\u001b[0m \u001b[0mflag\u001b[0m\u001b[0;34m)\u001b[0m\u001b[0;34m:\u001b[0m\u001b[0;34m\u001b[0m\u001b[0m\n\u001b[0;32m---> 90\u001b[0;31m     \u001b[0;32mraise\u001b[0m \u001b[0mLinAlgError\u001b[0m\u001b[0;34m(\u001b[0m\u001b[0;34m\"Singular matrix\"\u001b[0m\u001b[0;34m)\u001b[0m\u001b[0;34m\u001b[0m\u001b[0m\n\u001b[0m\u001b[1;32m     91\u001b[0m \u001b[0;34m\u001b[0m\u001b[0m\n\u001b[1;32m     92\u001b[0m \u001b[0;32mdef\u001b[0m \u001b[0m_raise_linalgerror_nonposdef\u001b[0m\u001b[0;34m(\u001b[0m\u001b[0merr\u001b[0m\u001b[0;34m,\u001b[0m \u001b[0mflag\u001b[0m\u001b[0;34m)\u001b[0m\u001b[0;34m:\u001b[0m\u001b[0;34m\u001b[0m\u001b[0m\n",
        "\u001b[0;31mLinAlgError\u001b[0m: Singular matrix"
       ]
      }
     ],
     "prompt_number": 19
    },
    {
     "cell_type": "markdown",
     "metadata": {},
     "source": [
      "$\\mathbf{Ax}=\n",
      "\\begin{bmatrix}\n",
      "1&3\\\\\n",
      "2&6\\\\\n",
      "\\end{bmatrix}\n",
      "\\begin{bmatrix}\n",
      "3\\\\\n",
      "-1\\\\\n",
      "\\end{bmatrix}=\n",
      "\\begin{bmatrix}\n",
      "0\\\\\n",
      "0\\\\\n",
      "\\end{bmatrix}$\n",
      "\n",
      "$\\mathbf{x}\\neq 0$\n",
      "\n",
      "If you find the non-negative $\\mathbf{x}$, then $\\mathbf{A^{-1}}$ does not exist"
     ]
    },
    {
     "cell_type": "markdown",
     "metadata": {},
     "source": [
      "** another example **\n",
      "\n",
      "$\\mathbf{A}=\n",
      "\\begin{bmatrix}\n",
      "1&3\\\\\n",
      "2&7\\\\\n",
      "\\end{bmatrix}$, the columns point in different directions\n",
      "\n",
      "$\\mathbf{AA^{-1}=I}$\n",
      "\n",
      "$\\begin{bmatrix}\n",
      "1&3\\\\\n",
      "2&7\\\\\n",
      "\\end{bmatrix}\n",
      "\\begin{bmatrix}\n",
      "a&c\\\\\n",
      "b&d\\\\\n",
      "\\end{bmatrix}=\n",
      "\\begin{bmatrix}\n",
      "1&0\\\\\n",
      "0&1\\\\\n",
      "\\end{bmatrix}\n",
      "$\n",
      "\n",
      "$\\mathbf{A} \\times$ column $j$ of $\\mathbf{A^{-1}}=$ column $j$ of $\\mathbf{I}$"
     ]
    },
    {
     "cell_type": "markdown",
     "metadata": {},
     "source": [
      "### Gauss Jordan\n",
      "\n",
      "Solves 2 equations at once\n",
      "\n",
      "$\\begin{bmatrix}\n",
      "1&3\\\\\n",
      "2&7\\\\\n",
      "\\end{bmatrix}\n",
      "\\begin{bmatrix}\n",
      "a\\\\\n",
      "b\\\\\n",
      "\\end{bmatrix}=\n",
      "\\begin{bmatrix}\n",
      "1\\\\\n",
      "0\\\\\n",
      "\\end{bmatrix}\n",
      "$\n",
      "\n",
      "$\\begin{bmatrix}\n",
      "1&3\\\\\n",
      "2&7\\\\\n",
      "\\end{bmatrix}\n",
      "\\begin{bmatrix}\n",
      "c\\\\\n",
      "d\\\\\n",
      "\\end{bmatrix}=\n",
      "\\begin{bmatrix}\n",
      "0\\\\\n",
      "1\\\\\n",
      "\\end{bmatrix}\n",
      "$\n",
      "\n",
      "Augmented Matrix:\n",
      "\n",
      "$\\begin{bmatrix}\n",
      "1&3&1&0\\\\\n",
      "2&7&0&1\\\\\n",
      "\\end{bmatrix}\\to\n",
      "\\begin{bmatrix}\n",
      "1&3&1&0\\\\\n",
      "0&1&-2&1\\\\\n",
      "\\end{bmatrix}\\to\n",
      "\\begin{bmatrix}\n",
      "1&0&7&-3\\\\\n",
      "0&1&-2&1\\\\\n",
      "\\end{bmatrix}\n",
      "$"
     ]
    },
    {
     "cell_type": "code",
     "collapsed": false,
     "input": [
      "ainv = array([[7, -3],[-2, 1]])\n",
      "a = array([[1, 3],[2, 7]])"
     ],
     "language": "python",
     "metadata": {},
     "outputs": [],
     "prompt_number": 24
    },
    {
     "cell_type": "code",
     "collapsed": false,
     "input": [
      "Matrix(dot(a, ainv))"
     ],
     "language": "python",
     "metadata": {},
     "outputs": [
      {
       "latex": [
        "$$\\left[\\begin{matrix}1 & 0\\\\0 & 1\\end{matrix}\\right]$$"
       ],
       "metadata": {},
       "output_type": "pyout",
       "png": "[encoded data removed]",
       "prompt_number": 26,
       "text": [
        "\u23a11  0\u23a4\n",
        "\u23a2    \u23a5\n",
        "\u23a30  1\u23a6"
       ]
      }
     ],
     "prompt_number": 26
    },
    {
     "cell_type": "markdown",
     "metadata": {},
     "source": [
      "$\\mathbf{E[AI]}$"
     ]
    },
    {
     "cell_type": "code",
     "collapsed": false,
     "input": [],
     "language": "python",
     "metadata": {},
     "outputs": []
    }
   ],
   "metadata": {}
  }
 ]
}