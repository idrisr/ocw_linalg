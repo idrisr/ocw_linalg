{
 "metadata": {
  "name": "",
  "signature": "sha256:bdec45531e85c429f7893fbe89457b5dd9e3ab211506b0330aa095021d8e1840"
 },
 "nbformat": 3,
 "nbformat_minor": 0,
 "worksheets": [
  {
   "cells": [
    {
     "cell_type": "code",
     "collapsed": false,
     "input": [
      "import matplotlib.pyplot as plt\n",
      "%matplotlib inline\n",
      "from sympy import *\n",
      "import numpy as np\n",
      "from numpy import mat, dot, array\n",
      "from numpy.linalg import norm, inv, pinv\n",
      "from IPython.display import YouTubeVideo\n",
      "from scipy.linalg import lu"
     ],
     "language": "python",
     "metadata": {},
     "outputs": [],
     "prompt_number": 153
    },
    {
     "cell_type": "code",
     "collapsed": false,
     "input": [
      "init_printing()"
     ],
     "language": "python",
     "metadata": {},
     "outputs": [],
     "prompt_number": 101
    },
    {
     "cell_type": "markdown",
     "metadata": {},
     "source": [
      "1. [Intro to Vectors](#here)\n",
      "    1. [Intro to Vectors](#here)\n",
      "    1. [Lengths and Dot Products](#here)\n",
      "    1. [Matrices]\n",
      "        1. [Multiplying](#multmatrices)\n",
      "1. [Solving Linear Equations](#here)\n",
      "    1. [Vectors and Linear Equations](#here)\n",
      "1. [Factorization into $\\mathbf{A = LU}$](#factALU)\n",
      "1. [Transposes, Permutations, Vector Spaces\n",
      "](#transpermsvectorspaces)\n",
      "\n"
     ]
    },
    {
     "cell_type": "markdown",
     "metadata": {},
     "source": [
      "# Intro to Vectors"
     ]
    },
    {
     "cell_type": "markdown",
     "metadata": {},
     "source": [
      "## Lengths Dot Products"
     ]
    },
    {
     "cell_type": "markdown",
     "metadata": {},
     "source": [
      "$\\mathbf{v \\cdot w} = v_1w_1 + v_2w_2$\n",
      "\n",
      "if $\\mathbf{v \\cdot w} = v_1w_1 + v_2w_2=0$\n",
      "\n",
      "$\\mathbf{v}$ and $\\mathbf{w}$ are $\\perp$\n",
      "\n",
      "---\n",
      "\n",
      "$\\mathbf{v \\cdot w} = \\mathbf{w \\cdot v}$\n",
      "\n",
      "more dot-product\n",
      "\n",
      "$\\sum v_iw_i = \\mathbf{v \\cdot w}$\n",
      "\n",
      "$\\|\\mathbf{v}\\|^2 = \\mathbf{v \\cdot v}$\n",
      "\n",
      "length $\\|\\mathbf{v}\\| = \\sqrt{\\mathbf{v \\cdot v}}$\n",
      "\n",
      "---"
     ]
    },
    {
     "cell_type": "markdown",
     "metadata": {},
     "source": [
      "### Unit Vectors\n",
      "$\\mathbf{u \\cdot u}=1$\n",
      "\n",
      "$\\mathbf{u}$ is a unit vector"
     ]
    },
    {
     "cell_type": "markdown",
     "metadata": {},
     "source": [
      "$\\mathbf{i}=\\begin{bmatrix} 1  \\\\0 \\end{bmatrix}$ $\\mathbf{j}=\\begin{bmatrix} 0  \\\\1 \\end{bmatrix}$ $\\mathbf{u}=\\begin{bmatrix} \\cos \\theta  \\\\ \\sin\\theta \\end{bmatrix}$\n",
      "\n",
      "$\\mathbf{u}$ is the unit vector that makes angle $\\theta$ with the $x$ axis\n",
      "\n",
      "---\n",
      "\n",
      "To get a unit vector, divide any $\\mathbf{v}$ by it's length $\\|\\mathbf{v}\\|$\n"
     ]
    },
    {
     "cell_type": "markdown",
     "metadata": {},
     "source": [
      "### The angle between two vectors"
     ]
    },
    {
     "cell_type": "markdown",
     "metadata": {},
     "source": [
      "$\\mathbf{v \\cdot w} = v_1w_1 + v_2w_2=0$ when $\\mathbf{v}$ and $\\mathbf{u}$ are $\\perp$\n",
      "\n",
      "The vector $\\mathbf{v} = 0$ is $\\perp$ to all vectors because $\\mathbf{v \\cdot 0}$ is always 0."
     ]
    },
    {
     "cell_type": "markdown",
     "metadata": {},
     "source": [
      "$\n",
      "\\begin{cases}\n",
      "\\mathbf{v\\cdot w}>0,&\\theta < 90^{\\circ}\\\\\n",
      "\\mathbf{v\\cdot w}<0,&\\theta > 90^{\\circ}\\\\\n",
      "\\mathbf{v\\cdot w}=0,&\\theta = 90^{\\circ}\\\\\n",
      "\\end{cases}\n",
      "$\n"
     ]
    },
    {
     "cell_type": "code",
     "collapsed": false,
     "input": [
      "x = symbols('x')\n",
      "fx = cos(x)\n",
      "fx\n",
      "plot(fx, xlim = [-3.14, 3.14]);"
     ],
     "language": "python",
     "metadata": {},
     "outputs": [
      {
       "metadata": {},
       "output_type": "display_data",
       "png": "[encoded data removed]",
       "text": [
        "<matplotlib.figure.Figure at 0x10dd1cc10>"
       ]
      }
     ],
     "prompt_number": 102
    },
    {
     "cell_type": "markdown",
     "metadata": {},
     "source": [
      "\n",
      "Unit vectors $\\mathbf{u}$ and $\\mathbf{U}$ at angle $\\theta$ have $\\mathbf{u \\cdot U} = \\cos \\theta$\n",
      "\n",
      "The dotproduct of unit vectors is $[-1, 1]$\n",
      "\n",
      "\n",
      "What if $\\mathbf{v \\text{ & } w}$ are not unit vectors? Divide by their length to get thei respsective unit vectors\n",
      "\n",
      "$\\dfrac{\\mathbf{v\\cdot w}}{\\|w\\|\\|v\\|} = \\cos \\theta$\n",
      "\n",
      "$\\therefore$\n",
      "\n",
      "$\\mathbf{|v \\cdot w|} < \\mathbf{\\|v\\|\\|w\\|}$\n",
      "\n",
      "and \n",
      "\n",
      "$\\mathbf{\\|v + w}\\| < \\mathbf{\\|v\\|+\\|w\\|}$\n",
      "\n"
     ]
    },
    {
     "cell_type": "code",
     "collapsed": false,
     "input": [
      "v = array([1, 2, 3])\n",
      "w = array([1, 1, 1])"
     ],
     "language": "python",
     "metadata": {},
     "outputs": [],
     "prompt_number": 103
    },
    {
     "cell_type": "code",
     "collapsed": false,
     "input": [
      "np.dot(v, w)"
     ],
     "language": "python",
     "metadata": {},
     "outputs": [
      {
       "latex": [
        "$$6$$"
       ],
       "metadata": {},
       "output_type": "pyout",
       "png": "[encoded data removed]",
       "prompt_number": 104,
       "text": [
        "6"
       ]
      }
     ],
     "prompt_number": 104
    },
    {
     "cell_type": "code",
     "collapsed": false,
     "input": [
      "np.linalg.norm(v)"
     ],
     "language": "python",
     "metadata": {},
     "outputs": [
      {
       "metadata": {},
       "output_type": "pyout",
       "prompt_number": 54,
       "text": [
        "3.74165738677"
       ]
      }
     ],
     "prompt_number": 54
    },
    {
     "cell_type": "code",
     "collapsed": false,
     "input": [
      "sum([_**2 for _ in v])**0.5"
     ],
     "language": "python",
     "metadata": {},
     "outputs": [
      {
       "metadata": {},
       "output_type": "pyout",
       "prompt_number": 57,
       "text": [
        "3.74165738677"
       ]
      }
     ],
     "prompt_number": 57
    },
    {
     "cell_type": "code",
     "collapsed": false,
     "input": [
      "# cosine theta between w and v\n",
      "dot(v, w)/(norm(v) * norm(w))"
     ],
     "language": "python",
     "metadata": {},
     "outputs": [
      {
       "metadata": {},
       "output_type": "pyout",
       "prompt_number": 58,
       "text": [
        "0.925820099773"
       ]
      }
     ],
     "prompt_number": 58
    },
    {
     "cell_type": "code",
     "collapsed": false,
     "input": [
      "# theta between w and v\n",
      "acos(dot(v, w)/(norm(v) * norm(w)))"
     ],
     "language": "python",
     "metadata": {},
     "outputs": [
      {
       "metadata": {},
       "output_type": "pyout",
       "prompt_number": 60,
       "text": [
        "0.387596686655180"
       ]
      }
     ],
     "prompt_number": 60
    },
    {
     "cell_type": "code",
     "collapsed": false,
     "input": [
      "init_printing(pretty_print=False)\n",
      "v = array([3, 4])\n",
      "w = array([4, 3])\n",
      "dot(v, w)/(norm(v) * norm(w))\n"
     ],
     "language": "python",
     "metadata": {},
     "outputs": [
      {
       "metadata": {},
       "output_type": "pyout",
       "prompt_number": 67,
       "text": [
        "0.96"
       ]
      }
     ],
     "prompt_number": 67
    },
    {
     "cell_type": "markdown",
     "metadata": {},
     "source": [
      "## Matrices"
     ]
    },
    {
     "cell_type": "markdown",
     "metadata": {},
     "source": [
      "**difference matrix**\n",
      "\n",
      "$\\mathbf{Ax} = \n",
      "\\begin{bmatrix} \n",
      "1& 0& 0 \\\\\n",
      "-1& 1& 0 \\\\ \n",
      "0& -1& -1 \\\\ \n",
      "\\end{bmatrix}\n",
      "\\begin{bmatrix} \n",
      "x_1 \\\\\n",
      "x_2 \\\\ \n",
      "x_3 \\\\ \n",
      "\\end{bmatrix}=\n",
      "\\begin{bmatrix} \n",
      "\\mathbf{x_1} \\\\\n",
      "\\mathbf{x_2 - x_1} \\\\ \n",
      "\\mathbf{x_3 - x_2} \\\\\n",
      "\\end{bmatrix}=\n",
      "\\begin{bmatrix} \n",
      "b_1 \\\\\n",
      "b_2 \\\\ \n",
      "b_3 \\\\\n",
      "\\end{bmatrix}=\n",
      "\\mathbf{b}\n",
      "$ "
     ]
    },
    {
     "cell_type": "markdown",
     "metadata": {},
     "source": [
      "**matrix times vector**\n",
      "\n",
      "$\\mathbf{Ax} = \n",
      "\\begin{bmatrix} \n",
      " \\\\\n",
      "\\mathbf{u}& \\mathbf{v}& \\mathbf{w} \\\\ \n",
      " \\\\ \n",
      "\\end{bmatrix}\n",
      "\\begin{bmatrix} \n",
      "c\\\\d\\\\e\\\\\n",
      "\\end{bmatrix}=c\\mathbf{u} + d\\mathbf{v} + e\\mathbf{w}\n",
      "$"
     ]
    },
    {
     "cell_type": "markdown",
     "metadata": {},
     "source": [
      "** dot products with rows **"
     ]
    },
    {
     "cell_type": "markdown",
     "metadata": {},
     "source": [
      "$\\mathbf{Ax} = \n",
      "\\begin{bmatrix} \n",
      "1&0&0\\\\\n",
      "-1&0&0\\\\\n",
      "0&-1&1\\\\ \n",
      "\\end{bmatrix}\n",
      "\\begin{bmatrix} \n",
      "x_1 \\\\\n",
      "x_2 \\\\ \n",
      "x_3 \\\\ \n",
      "\\end{bmatrix}=\n",
      "\\begin{bmatrix} \n",
      "(1, 0, 0)\\cdot (x_1, x_2, x_3) \\\\\n",
      "(-1, 1, 0)\\cdot (x_1, x_2, x_3) \\\\\n",
      "(0, -1, 1)\\cdot (x_1, x_2, x_3) \\\\\n",
      "\\end{bmatrix}\n",
      "$"
     ]
    },
    {
     "cell_type": "markdown",
     "metadata": {},
     "source": [
      "Column form way. Easiest to remember probably:\n",
      "\n",
      "$\\mathbf{Ax} = \n",
      "\\begin{bmatrix} \n",
      "1&0&0\\\\\n",
      "-1&0&0\\\\\n",
      "0&-1&1\\\\ \n",
      "\\end{bmatrix}\n",
      "\\begin{bmatrix} \n",
      "x_1 \\\\\n",
      "x_2 \\\\ \n",
      "x_3 \\\\ \n",
      "\\end{bmatrix}=\n",
      "x_1\n",
      "\\begin{bmatrix} \n",
      "1\\\\-1\\\\0\\\\ \n",
      "\\end{bmatrix}+\n",
      "x_2\n",
      "\\begin{bmatrix} \n",
      "0\\\\0\\\\-1\\\\ \n",
      "\\end{bmatrix}+\n",
      "x_3\n",
      "\\begin{bmatrix} \n",
      "0\\\\0\\\\1\\\\ \n",
      "\\end{bmatrix}\n",
      "$"
     ]
    },
    {
     "cell_type": "markdown",
     "metadata": {},
     "source": [
      "**Linear Equations**"
     ]
    },
    {
     "cell_type": "markdown",
     "metadata": {},
     "source": [
      "Up till now looking at equations in the form\n",
      "\n",
      "$\\mathbf{Ax = b}$\n",
      "\n",
      "\n",
      "Now let's switch it up so \n",
      "\n",
      "$\\mathbf{b = Ax}$ where $\\mathbf{x}$ is the unknown"
     ]
    },
    {
     "cell_type": "markdown",
     "metadata": {},
     "source": [
      "### Inverse Matrix"
     ]
    },
    {
     "cell_type": "markdown",
     "metadata": {},
     "source": [
      "$\\mathbf{Ax = b}$ is solved by \n",
      "\n",
      "$\\mathbf{x = A^{-1}b = Sb}$"
     ]
    },
    {
     "cell_type": "markdown",
     "metadata": {},
     "source": [
      "# Solving Linear Equations"
     ]
    },
    {
     "cell_type": "markdown",
     "metadata": {},
     "source": [
      "## Vectors and Linear Equations"
     ]
    },
    {
     "cell_type": "markdown",
     "metadata": {},
     "source": [
      "The central problem of linear algebra is to solve a system of equations"
     ]
    },
    {
     "cell_type": "markdown",
     "metadata": {},
     "source": [
      "matrix x column = column\n",
      "\n",
      "row x matrix = row"
     ]
    },
    {
     "cell_type": "markdown",
     "metadata": {},
     "source": [
      "**Step 1**\n",
      "\n",
      "$E_{21} = \n",
      "\\begin{bmatrix} \n",
      "1&0&0\\\\\n",
      "-3&1&0\\\\\n",
      "0&0&1\\\\ \n",
      "\\end{bmatrix}$\n",
      "\n",
      "\n",
      "$\\begin{bmatrix} \n",
      "1&0&0\\\\\n",
      "-3&1&0\\\\\n",
      "0&0&1\\\\ \n",
      "\\end{bmatrix}\n",
      "\\begin{bmatrix} \n",
      "1&2&1\\\\\n",
      "3&8&1\\\\\n",
      "0&4&1\\\\ \n",
      "\\end{bmatrix}=\n",
      "\\begin{bmatrix} \n",
      "1&2&1\\\\\n",
      "0&2&-2\\\\\n",
      "0&4&1\\\\ \n",
      "\\end{bmatrix}$\n",
      "\n",
      "Let's check index(2, 3) = -2. It comes from the dot product of the 2nd row of the first matrix and the first column of the second matrix"
     ]
    },
    {
     "cell_type": "code",
     "collapsed": false,
     "input": [
      "-3*1 + 1*1 + 0*1"
     ],
     "language": "python",
     "metadata": {},
     "outputs": [
      {
       "metadata": {},
       "output_type": "pyout",
       "prompt_number": 85,
       "text": [
        "-2"
       ]
      }
     ],
     "prompt_number": 85
    },
    {
     "cell_type": "markdown",
     "metadata": {},
     "source": [
      "**Step 2**\n",
      "\n",
      "$\n",
      "E_{32}=\\begin{bmatrix} \n",
      "1&0&0\\\\\n",
      "0&1&0\\\\\n",
      "0&-2&1\\\\ \n",
      "\\end{bmatrix}$\n",
      "\n",
      "\n",
      "$\\begin{bmatrix} \n",
      "1&0&0\\\\\n",
      "0&1&0\\\\\n",
      "0&-2&1\\\\ \n",
      "\\end{bmatrix}\n",
      "\\begin{bmatrix} \n",
      "1&2&1\\\\\n",
      "0&2&-2\\\\\n",
      "0&4&1\\\\ \n",
      "\\end{bmatrix}=\n",
      "\\begin{bmatrix} \n",
      "1&2&1\\\\\n",
      "0&2&-2\\\\\n",
      "0&0&5\\\\ \n",
      "\\end{bmatrix}$"
     ]
    },
    {
     "cell_type": "markdown",
     "metadata": {},
     "source": [
      "This is what we did to get $\\mathbf{U}$, which is the upper triangle matrix\n",
      "\n",
      "$\\mathbf{E_{32}(E_{21}A)=U}$\n",
      "\n",
      "$\\mathbf{(E_{32}E_{21})A=U}$\n",
      "\n",
      "You can't mess around with the order of the matrices, but you can mess around with the parenthesis. \n",
      "\n",
      "$\\mathbf{AB \\neq BA}$"
     ]
    },
    {
     "cell_type": "markdown",
     "metadata": {},
     "source": [
      "** Permutation Matrix**\n",
      "\n",
      "$\\mathbf{p}=\\begin{bmatrix} \n",
      "0&1\\\\\n",
      "1&0\\\\\n",
      "\\end{bmatrix}\n",
      "$\n",
      "\n",
      "$\\mathbf{p}$ for permutation matrix\n",
      "\n",
      "\n",
      "$\\begin{bmatrix} \n",
      "0&1\\\\\n",
      "1&0\\\\\n",
      "\\end{bmatrix}\n",
      "\\begin{bmatrix} \n",
      "a&b\\\\\n",
      "c&d\\\\\n",
      "\\end{bmatrix}=\n",
      "\\begin{bmatrix} \n",
      "c&d\\\\\n",
      "a&b\\\\ \n",
      "\\end{bmatrix}$\n",
      "\n",
      "$\\mathbf{B}\n",
      "\\begin{bmatrix} \n",
      "a&b\\\\\n",
      "c&d\\\\\n",
      "\\end{bmatrix}=\n",
      "\\begin{bmatrix} \n",
      "b&a\\\\\n",
      "d&c\\\\ \n",
      "\\end{bmatrix}$\n",
      "\n",
      "$\\mathbf{B}$ does not exist. If you want to do exercise column-wise, you have to put the matrix on the right.\n",
      "\n",
      "---\n",
      "\n",
      "$\n",
      "\\begin{bmatrix} \n",
      "a&b\\\\\n",
      "c&d\\\\\n",
      "\\end{bmatrix}\n",
      "\\mathbf{B}\n",
      "=\n",
      "\\begin{bmatrix} \n",
      "b&a\\\\\n",
      "d&c\\\\ \n",
      "\\end{bmatrix}\n",
      "$\n",
      "\n",
      "$\n",
      "\\begin{bmatrix} \n",
      "a&b\\\\\n",
      "c&d\\\\\n",
      "\\end{bmatrix}\n",
      "\\begin{bmatrix} \n",
      "0&1\\\\\n",
      "1&0\\\\\n",
      "\\end{bmatrix}\n",
      "=\n",
      "\\begin{bmatrix} \n",
      "b&a\\\\\n",
      "d&c\\\\ \n",
      "\\end{bmatrix}\n",
      "$"
     ]
    },
    {
     "cell_type": "markdown",
     "metadata": {},
     "source": [
      "Think not about how to get from $\\mathbf{A \\to U}$, instead think about $\\mathbf{U \\to A}$\n",
      "\n",
      "Think about the inverse matrix.\n",
      "\n",
      "$\\mathbf{AA^{-1} = I}$\n",
      "\n",
      "$\\mathbf{I} = \\begin{bmatrix}\n",
      "1&0&0\\\\\n",
      "0&1&0\\\\\n",
      "0&0&1\\\\\n",
      "\\end{bmatrix}$"
     ]
    },
    {
     "cell_type": "markdown",
     "metadata": {},
     "source": [
      "<a id='multmatrices'></a>\n",
      "### Multiplying Matrices"
     ]
    },
    {
     "cell_type": "code",
     "collapsed": false,
     "input": [
      "vid = 'OMA2Mwo0aZg'\n",
      "YouTubeVideo(vid, width='600', height='400')"
     ],
     "language": "python",
     "metadata": {},
     "outputs": [
      {
       "html": [
        "\n",
        "        <iframe\n",
        "            width=\"600\"\n",
        "            height=400\"\n",
        "            src=\"https://www.youtube.com/embed/OMA2Mwo0aZg\"\n",
        "            frameborder=\"0\"\n",
        "            allowfullscreen\n",
        "        ></iframe>\n",
        "        "
       ],
       "metadata": {},
       "output_type": "pyout",
       "prompt_number": 94,
       "text": [
        "<IPython.lib.display.YouTubeVideo at 0x1117f3490>"
       ]
      }
     ],
     "prompt_number": 94
    },
    {
     "cell_type": "markdown",
     "metadata": {},
     "source": [
      "$\\mathbf{E} = \\begin{bmatrix}\n",
      "0&3&5\\\\\n",
      "5&5&2\\\\\n",
      "\\end{bmatrix}$\n",
      "$\\mathbf{D} = \\begin{bmatrix}\n",
      "3&4\\\\\n",
      "3&-2\\\\\n",
      "4&-2\\\\\n",
      "\\end{bmatrix}$\n",
      "\n",
      "What is $\\mathbf{ED}$?\n",
      "\n",
      "What is $\\mathbf{E}$ is 2x3.\n",
      "\n",
      "What is $\\mathbf{D}$ is 3x2.\n",
      "\n",
      "So we can do this because columns of the second one are equal to the rows of the first one.\n",
      "\n",
      "In the end we get a 2x2 matrix.\n",
      "\n",
      "for the index $ij$, get the $i^{th}$ row from $\\mathbf{E}$, and the $j^{th}$ column from $\\mathbf{D}$\n",
      "\n",
      "$\\mathbf{E\\cdot D} = \\begin{bmatrix}\n",
      "\\text{dot(1st row E & 1st column E)}&\\text{dot(1st row E & 2nd column E)}\\\\\n",
      "\\text{dot(2nd row E & 1st column E)}&\\text{dot(2nd row E & 2nd column E)}\\\\\n",
      "\\end{bmatrix}$\n",
      "\n",
      "$\\mathbf{E\\cdot D} = \\begin{bmatrix}\n",
      "0\\cdot 3 + 3 \\cdot 3 + 5 \\cdot 4&\n",
      "0\\cdot 4 + 3 \\cdot -2 + 5 \\cdot -2&\n",
      "\\\\\n",
      "5\\cdot 3 + 5 \\cdot 3 + 2 \\cdot 4&\n",
      "5\\cdot 4 + 5 \\cdot -2 + 2 \\cdot -2&\n",
      "\\\\\n",
      "\\end{bmatrix}$\n",
      "\n",
      "$\\mathbf{E\\cdot D} = \\begin{bmatrix}\n",
      "29&-16&\\\\\n",
      "38&-6&\\\\\n",
      "\\end{bmatrix}$\n"
     ]
    },
    {
     "cell_type": "code",
     "collapsed": false,
     "input": [
      "init_printing()\n",
      "E = array([[0, 3, 5], [5, 5 ,2]])\n",
      "Matrix(E)"
     ],
     "language": "python",
     "metadata": {},
     "outputs": [
      {
       "latex": [
        "$$\\left[\\begin{matrix}0 & 3 & 5\\\\5 & 5 & 2\\end{matrix}\\right]$$"
       ],
       "metadata": {},
       "output_type": "pyout",
       "png": "[encoded data removed]",
       "prompt_number": 116,
       "text": [
        "\u23a10  3  5\u23a4\n",
        "\u23a2       \u23a5\n",
        "\u23a35  5  2\u23a6"
       ]
      }
     ],
     "prompt_number": 116
    },
    {
     "cell_type": "code",
     "collapsed": false,
     "input": [
      "D = array([[3, 4], [3, -2], [4, -2]])\n",
      "Matrix(D)"
     ],
     "language": "python",
     "metadata": {},
     "outputs": [
      {
       "latex": [
        "$$\\left[\\begin{matrix}3 & 4\\\\3 & -2\\\\4 & -2\\end{matrix}\\right]$$"
       ],
       "metadata": {},
       "output_type": "pyout",
       "png": "[encoded data removed]",
       "prompt_number": 120,
       "text": [
        "\u23a13  4 \u23a4\n",
        "\u23a2     \u23a5\n",
        "\u23a23  -2\u23a5\n",
        "\u23a2     \u23a5\n",
        "\u23a34  -2\u23a6"
       ]
      }
     ],
     "prompt_number": 120
    },
    {
     "cell_type": "code",
     "collapsed": false,
     "input": [
      "Matrix(np.dot(E, D))"
     ],
     "language": "python",
     "metadata": {},
     "outputs": [
      {
       "latex": [
        "$$\\left[\\begin{matrix}29 & -16\\\\38 & 6\\end{matrix}\\right]$$"
       ],
       "metadata": {},
       "output_type": "pyout",
       "png": "[encoded data removed]",
       "prompt_number": 123,
       "text": [
        "\u23a129  -16\u23a4\n",
        "\u23a2       \u23a5\n",
        "\u23a338   6 \u23a6"
       ]
      }
     ],
     "prompt_number": 123
    },
    {
     "cell_type": "markdown",
     "metadata": {},
     "source": [
      "## Ways to multiply a matrix\n",
      "\n",
      "$\\mathbf{AB=C}$\n",
      "\n",
      "$\\mathbf{A}: m \\times n$\n",
      "\n",
      "$\\mathbf{B}: n \\times p$\n",
      "\n",
      "$\\mathbf{C}: m \\times p$\n",
      "\n",
      "---\n",
      "\n",
      "$C_{ij} = \\mathbf{A_i} \\cdot \\mathbf{B_j}$\n",
      "\n",
      "$C_{34}$ = dot product(3rd row $\\mathbf{A}$, 4th column $\\mathbf{B}$)\n",
      "\n",
      "$C_{34} = a_{31}b_{14} + a_{32}b_{24}... = \\sum\\limits_{k=1}^n a_{3k}b_{k4}$\n",
      "\n"
     ]
    },
    {
     "cell_type": "markdown",
     "metadata": {},
     "source": [
      "$\\mathbf{AB=C}$\n",
      "\n",
      "$\\mathbf{A}: m \\times n$\n",
      "\n",
      "$\\mathbf{B}: n \\times p$\n",
      "\n",
      "$\\mathbf{C}: m \\times p$\n"
     ]
    },
    {
     "cell_type": "markdown",
     "metadata": {},
     "source": [
      "$\n",
      "\\begin{bmatrix} \n",
      "\\\\\n",
      "&\\mathbf{A}&\\\\\n",
      "\\\\\\end{bmatrix}\n",
      "\\begin{bmatrix} \n",
      "\\\\\n",
      "&\\mathbf{B}&\\\\\n",
      "\\\\\\end{bmatrix}=\n",
      "\\begin{bmatrix} \n",
      "\\\\\n",
      "&\\mathbf{C}&\n",
      "\\\\\n",
      "\\\\\\end{bmatrix}$"
     ]
    },
    {
     "cell_type": "markdown",
     "metadata": {},
     "source": [
      "Rows of $\\mathbf{C}$ are combinations of rows of $\\mathbf{B}$\n",
      "\n",
      "Columns of $\\mathbf{C}$ are combinations of rows of $\\mathbf{A}$\n",
      "\n",
      "---\n",
      "\n",
      "Column of $\\mathbf{A}$ $\\times$ row of $\\mathbf{B}$\n",
      "\n",
      "$m\\times 1$ and $1 \\times p = m \\times p$\n",
      "\n",
      "$\n",
      "\\begin{bmatrix} \n",
      "2\\\\\n",
      "3\\\\\n",
      "4\\\\\n",
      "\\end{bmatrix}\n",
      "\\begin{bmatrix} \n",
      "1&6\\\\\n",
      "\\end{bmatrix}=\n",
      "\\begin{bmatrix} \n",
      "2&12\\\\\n",
      "3&18\\\\\n",
      "4&24\\\\\n",
      "\\end{bmatrix}$\n",
      "\n",
      "The columns are combinations of the first one.\n",
      "\n",
      "The rows are combinations of the second one!\n",
      "\n",
      "$\\mathbf{AB}$ = sum  of (cols of $\\mathbf{A}) \\times$ (rows of $\\mathbf{B})$\n",
      "\n",
      "$\n",
      "\\begin{bmatrix} \n",
      "2&7\\\\\n",
      "3&8\\\\\n",
      "4&9\\\\\n",
      "\\end{bmatrix}\n",
      "\\begin{bmatrix} \n",
      "1&6\\\\\n",
      "0&0\\\\\n",
      "\\end{bmatrix}=\n",
      "\\begin{bmatrix} \n",
      "2\\\\3\\\\4\\\\\n",
      "\\end{bmatrix}\n",
      "\\begin{bmatrix} \n",
      "1&6\\\\\n",
      "\\end{bmatrix}+\n",
      "\\begin{bmatrix} \n",
      "7\\\\8\\\\9\\\\\n",
      "\\end{bmatrix}\n",
      "\\begin{bmatrix} \n",
      "0&0\\\\\n",
      "\\end{bmatrix}=\n",
      "\\begin{bmatrix} \n",
      "0&0\\\\\n",
      "\\end{bmatrix}$"
     ]
    },
    {
     "cell_type": "markdown",
     "metadata": {},
     "source": [
      "$\n",
      "\\begin{bmatrix} \n",
      "2&12\\\\\n",
      "3&18\\\\\n",
      "4&24\\\\\n",
      "\\end{bmatrix}+\n",
      "\\begin{bmatrix} \n",
      "0&0\\\\\n",
      "0&0\\\\\n",
      "0&0\\\\\n",
      "\\end{bmatrix}=\n",
      "\\begin{bmatrix} \n",
      "2&12\\\\\n",
      "3&18\\\\\n",
      "4&24\\\\\n",
      "\\end{bmatrix}\n",
      "$\n",
      "\n",
      "all the rows lie on the vector $[1, 6]$\n",
      "\n",
      "all the colums lie on the vector $[2, 3, 4]$"
     ]
    },
    {
     "cell_type": "code",
     "collapsed": false,
     "input": [
      "a =array([[2, 7], [3, 8], [4, 9]])\n",
      "b =array([[1, 6], [0, 0]])\n",
      "Matrix(a), Matrix(b)"
     ],
     "language": "python",
     "metadata": {},
     "outputs": [
      {
       "latex": [
        "$$\\begin{pmatrix}\\left[\\begin{matrix}2 & 7\\\\3 & 8\\\\4 & 9\\end{matrix}\\right], & \\left[\\begin{matrix}1 & 6\\\\0 & 0\\end{matrix}\\right]\\end{pmatrix}$$"
       ],
       "metadata": {},
       "output_type": "pyout",
       "png": "[encoded data removed]",
       "prompt_number": 136,
       "text": [
        "\u239b\u23a12  7\u23a4, \u23a11  6\u23a4\u239e\n",
        "\u239c\u23a2    \u23a5  \u23a2    \u23a5\u239f\n",
        "\u239c\u23a23  8\u23a5  \u23a30  0\u23a6\u239f\n",
        "\u239c\u23a2    \u23a5        \u239f\n",
        "\u239d\u23a34  9\u23a6        \u23a0"
       ]
      }
     ],
     "prompt_number": 136
    },
    {
     "cell_type": "code",
     "collapsed": false,
     "input": [
      "Matrix(dot(a, b))"
     ],
     "language": "python",
     "metadata": {},
     "outputs": [
      {
       "latex": [
        "$$\\left[\\begin{matrix}2 & 12\\\\3 & 18\\\\4 & 24\\end{matrix}\\right]$$"
       ],
       "metadata": {},
       "output_type": "pyout",
       "png": "[encoded data removed]",
       "prompt_number": 137,
       "text": [
        "\u23a12  12\u23a4\n",
        "\u23a2     \u23a5\n",
        "\u23a23  18\u23a5\n",
        "\u23a2     \u23a5\n",
        "\u23a34  24\u23a6"
       ]
      }
     ],
     "prompt_number": 137
    },
    {
     "cell_type": "markdown",
     "metadata": {},
     "source": [
      "### Inverses"
     ]
    },
    {
     "cell_type": "markdown",
     "metadata": {},
     "source": [
      "$\\mathbf{A^{-1}A} = I = \\mathbf{AA^{-1}}$, for a square matrix\n",
      "\n",
      "If $\\mathbf{A^{-1}}$ exists, it's called invertible or nonsingular"
     ]
    },
    {
     "cell_type": "markdown",
     "metadata": {},
     "source": [
      "### Singular case\n",
      "\n",
      "No inverse\n",
      "\n",
      "Example of singular matrix:\n",
      "\n",
      "$\\mathbf{A}=\n",
      "\\begin{bmatrix}\n",
      "1&3\\\\\n",
      "2&6\\\\\n",
      "\\end{bmatrix}\n",
      "$"
     ]
    },
    {
     "cell_type": "code",
     "collapsed": false,
     "input": [
      "a = np.array([[1, 3], [2, 6]])\n",
      "Matrix(a)"
     ],
     "language": "python",
     "metadata": {},
     "outputs": [
      {
       "latex": [
        "$$\\left[\\begin{matrix}1 & 3\\\\2 & 6\\end{matrix}\\right]$$"
       ],
       "metadata": {},
       "output_type": "pyout",
       "png": "[encoded data removed]",
       "prompt_number": 10,
       "text": [
        "\u23a11  3\u23a4\n",
        "\u23a2    \u23a5\n",
        "\u23a32  6\u23a6"
       ]
      }
     ],
     "prompt_number": 10
    },
    {
     "cell_type": "code",
     "collapsed": false,
     "input": [
      "inv(a)"
     ],
     "language": "python",
     "metadata": {},
     "outputs": [
      {
       "ename": "LinAlgError",
       "evalue": "Singular matrix",
       "output_type": "pyerr",
       "traceback": [
        "\u001b[0;31m---------------------------------------------------------------------------\u001b[0m\n\u001b[0;31mLinAlgError\u001b[0m                               Traceback (most recent call last)",
        "\u001b[0;32m<ipython-input-19-2a8690952bbf>\u001b[0m in \u001b[0;36m<module>\u001b[0;34m()\u001b[0m\n\u001b[0;32m----> 1\u001b[0;31m \u001b[0minv\u001b[0m\u001b[0;34m(\u001b[0m\u001b[0ma\u001b[0m\u001b[0;34m)\u001b[0m\u001b[0;34m\u001b[0m\u001b[0m\n\u001b[0m",
        "\u001b[0;32m/Users/idris/.virtualenvs/linalg/lib/python2.7/site-packages/numpy/linalg/linalg.pyc\u001b[0m in \u001b[0;36minv\u001b[0;34m(a)\u001b[0m\n\u001b[1;32m    518\u001b[0m     \u001b[0msignature\u001b[0m \u001b[0;34m=\u001b[0m \u001b[0;34m'D->D'\u001b[0m \u001b[0;32mif\u001b[0m \u001b[0misComplexType\u001b[0m\u001b[0;34m(\u001b[0m\u001b[0mt\u001b[0m\u001b[0;34m)\u001b[0m \u001b[0;32melse\u001b[0m \u001b[0;34m'd->d'\u001b[0m\u001b[0;34m\u001b[0m\u001b[0m\n\u001b[1;32m    519\u001b[0m     \u001b[0mextobj\u001b[0m \u001b[0;34m=\u001b[0m \u001b[0mget_linalg_error_extobj\u001b[0m\u001b[0;34m(\u001b[0m\u001b[0m_raise_linalgerror_singular\u001b[0m\u001b[0;34m)\u001b[0m\u001b[0;34m\u001b[0m\u001b[0m\n\u001b[0;32m--> 520\u001b[0;31m     \u001b[0mainv\u001b[0m \u001b[0;34m=\u001b[0m \u001b[0m_umath_linalg\u001b[0m\u001b[0;34m.\u001b[0m\u001b[0minv\u001b[0m\u001b[0;34m(\u001b[0m\u001b[0ma\u001b[0m\u001b[0;34m,\u001b[0m \u001b[0msignature\u001b[0m\u001b[0;34m=\u001b[0m\u001b[0msignature\u001b[0m\u001b[0;34m,\u001b[0m \u001b[0mextobj\u001b[0m\u001b[0;34m=\u001b[0m\u001b[0mextobj\u001b[0m\u001b[0;34m)\u001b[0m\u001b[0;34m\u001b[0m\u001b[0m\n\u001b[0m\u001b[1;32m    521\u001b[0m     \u001b[0;32mreturn\u001b[0m \u001b[0mwrap\u001b[0m\u001b[0;34m(\u001b[0m\u001b[0mainv\u001b[0m\u001b[0;34m.\u001b[0m\u001b[0mastype\u001b[0m\u001b[0;34m(\u001b[0m\u001b[0mresult_t\u001b[0m\u001b[0;34m)\u001b[0m\u001b[0;34m)\u001b[0m\u001b[0;34m\u001b[0m\u001b[0m\n\u001b[1;32m    522\u001b[0m \u001b[0;34m\u001b[0m\u001b[0m\n",
        "\u001b[0;32m/Users/idris/.virtualenvs/linalg/lib/python2.7/site-packages/numpy/linalg/linalg.pyc\u001b[0m in \u001b[0;36m_raise_linalgerror_singular\u001b[0;34m(err, flag)\u001b[0m\n\u001b[1;32m     88\u001b[0m \u001b[0;34m\u001b[0m\u001b[0m\n\u001b[1;32m     89\u001b[0m \u001b[0;32mdef\u001b[0m \u001b[0m_raise_linalgerror_singular\u001b[0m\u001b[0;34m(\u001b[0m\u001b[0merr\u001b[0m\u001b[0;34m,\u001b[0m \u001b[0mflag\u001b[0m\u001b[0;34m)\u001b[0m\u001b[0;34m:\u001b[0m\u001b[0;34m\u001b[0m\u001b[0m\n\u001b[0;32m---> 90\u001b[0;31m     \u001b[0;32mraise\u001b[0m \u001b[0mLinAlgError\u001b[0m\u001b[0;34m(\u001b[0m\u001b[0;34m\"Singular matrix\"\u001b[0m\u001b[0;34m)\u001b[0m\u001b[0;34m\u001b[0m\u001b[0m\n\u001b[0m\u001b[1;32m     91\u001b[0m \u001b[0;34m\u001b[0m\u001b[0m\n\u001b[1;32m     92\u001b[0m \u001b[0;32mdef\u001b[0m \u001b[0m_raise_linalgerror_nonposdef\u001b[0m\u001b[0;34m(\u001b[0m\u001b[0merr\u001b[0m\u001b[0;34m,\u001b[0m \u001b[0mflag\u001b[0m\u001b[0;34m)\u001b[0m\u001b[0;34m:\u001b[0m\u001b[0;34m\u001b[0m\u001b[0m\n",
        "\u001b[0;31mLinAlgError\u001b[0m: Singular matrix"
       ]
      }
     ],
     "prompt_number": 19
    },
    {
     "cell_type": "markdown",
     "metadata": {},
     "source": [
      "$\\mathbf{Ax}=\n",
      "\\begin{bmatrix}\n",
      "1&3\\\\\n",
      "2&6\\\\\n",
      "\\end{bmatrix}\n",
      "\\begin{bmatrix}\n",
      "3\\\\\n",
      "-1\\\\\n",
      "\\end{bmatrix}=\n",
      "\\begin{bmatrix}\n",
      "0\\\\\n",
      "0\\\\\n",
      "\\end{bmatrix}$\n",
      "\n",
      "$\\mathbf{x}\\neq 0$\n",
      "\n",
      "If you find the non-negative $\\mathbf{x}$, then $\\mathbf{A^{-1}}$ does not exist"
     ]
    },
    {
     "cell_type": "markdown",
     "metadata": {},
     "source": [
      "** another example **\n",
      "\n",
      "$\\mathbf{A}=\n",
      "\\begin{bmatrix}\n",
      "1&3\\\\\n",
      "2&7\\\\\n",
      "\\end{bmatrix}$, the columns point in different directions\n",
      "\n",
      "$\\mathbf{AA^{-1}=I}$\n",
      "\n",
      "$\\begin{bmatrix}\n",
      "1&3\\\\\n",
      "2&7\\\\\n",
      "\\end{bmatrix}\n",
      "\\begin{bmatrix}\n",
      "a&c\\\\\n",
      "b&d\\\\\n",
      "\\end{bmatrix}=\n",
      "\\begin{bmatrix}\n",
      "1&0\\\\\n",
      "0&1\\\\\n",
      "\\end{bmatrix}\n",
      "$\n",
      "\n",
      "$\\mathbf{A} \\times$ column $j$ of $\\mathbf{A^{-1}}=$ column $j$ of $\\mathbf{I}$"
     ]
    },
    {
     "cell_type": "markdown",
     "metadata": {},
     "source": [
      "### Gauss Jordan\n",
      "\n",
      "Solves 2 equations at once\n",
      "\n",
      "$\\begin{bmatrix}\n",
      "1&3\\\\\n",
      "2&7\\\\\n",
      "\\end{bmatrix}\n",
      "\\begin{bmatrix}\n",
      "a\\\\\n",
      "b\\\\\n",
      "\\end{bmatrix}=\n",
      "\\begin{bmatrix}\n",
      "1\\\\\n",
      "0\\\\\n",
      "\\end{bmatrix}\n",
      "$\n",
      "\n",
      "$\\begin{bmatrix}\n",
      "1&3\\\\\n",
      "2&7\\\\\n",
      "\\end{bmatrix}\n",
      "\\begin{bmatrix}\n",
      "c\\\\\n",
      "d\\\\\n",
      "\\end{bmatrix}=\n",
      "\\begin{bmatrix}\n",
      "0\\\\\n",
      "1\\\\\n",
      "\\end{bmatrix}\n",
      "$\n",
      "\n",
      "Augmented Matrix:\n",
      "\n",
      "$\\begin{bmatrix}\n",
      "1&3&1&0\\\\\n",
      "2&7&0&1\\\\\n",
      "\\end{bmatrix}\\to\n",
      "\\begin{bmatrix}\n",
      "1&3&1&0\\\\\n",
      "0&1&-2&1\\\\\n",
      "\\end{bmatrix}\\to\n",
      "\\begin{bmatrix}\n",
      "1&0&7&-3\\\\\n",
      "0&1&-2&1\\\\\n",
      "\\end{bmatrix}\n",
      "$"
     ]
    },
    {
     "cell_type": "code",
     "collapsed": false,
     "input": [
      "ainv = array([[7, -3],[-2, 1]])\n",
      "a = array([[1, 3],[2, 7]])"
     ],
     "language": "python",
     "metadata": {},
     "outputs": [],
     "prompt_number": 24
    },
    {
     "cell_type": "code",
     "collapsed": false,
     "input": [
      "Matrix(dot(a, ainv))"
     ],
     "language": "python",
     "metadata": {},
     "outputs": [
      {
       "latex": [
        "$$\\left[\\begin{matrix}1 & 0\\\\0 & 1\\end{matrix}\\right]$$"
       ],
       "metadata": {},
       "output_type": "pyout",
       "png": "[encoded data removed]",
       "prompt_number": 26,
       "text": [
        "\u23a11  0\u23a4\n",
        "\u23a2    \u23a5\n",
        "\u23a30  1\u23a6"
       ]
      }
     ],
     "prompt_number": 26
    },
    {
     "cell_type": "markdown",
     "metadata": {},
     "source": [
      "$\\mathbf{EAI = IA^{-1}}$"
     ]
    },
    {
     "cell_type": "code",
     "collapsed": false,
     "input": [
      "A = array([[1,0, 0, 0], [1, 1, 0, 0], [1,2, 1, 0], [1, 3, 3, 1]])"
     ],
     "language": "python",
     "metadata": {},
     "outputs": [],
     "prompt_number": 15
    },
    {
     "cell_type": "code",
     "collapsed": false,
     "input": [
      "Matrix(A)"
     ],
     "language": "python",
     "metadata": {},
     "outputs": [
      {
       "latex": [
        "$$\\left[\\begin{matrix}1 & 0 & 0 & 0\\\\1 & 1 & 0 & 0\\\\1 & 2 & 1 & 0\\\\1 & 3 & 3 & 1\\end{matrix}\\right]$$"
       ],
       "metadata": {},
       "output_type": "pyout",
       "png": "[encoded data removed]",
       "prompt_number": 16,
       "text": [
        "\u23a11  0  0  0\u23a4\n",
        "\u23a2          \u23a5\n",
        "\u23a21  1  0  0\u23a5\n",
        "\u23a2          \u23a5\n",
        "\u23a21  2  1  0\u23a5\n",
        "\u23a2          \u23a5\n",
        "\u23a31  3  3  1\u23a6"
       ]
      }
     ],
     "prompt_number": 16
    },
    {
     "cell_type": "code",
     "collapsed": false,
     "input": [
      "Matrix(inv(A))"
     ],
     "language": "python",
     "metadata": {},
     "outputs": [
      {
       "latex": [
        "$$\\left[\\begin{matrix}1.0 & 0.0 & 0.0 & 0.0\\\\-1.0 & 1.0 & 0.0 & 0.0\\\\1.0 & -2.0 & 1.0 & 0.0\\\\-1.0 & 3.0 & -3.0 & 1.0\\end{matrix}\\right]$$"
       ],
       "metadata": {},
       "output_type": "pyout",
       "png": "[encoded data removed]",
       "prompt_number": 18,
       "text": [
        "\u23a11.0   0.0   0.0   0.0\u23a4\n",
        "\u23a2                     \u23a5\n",
        "\u23a2-1.0  1.0   0.0   0.0\u23a5\n",
        "\u23a2                     \u23a5\n",
        "\u23a21.0   -2.0  1.0   0.0\u23a5\n",
        "\u23a2                     \u23a5\n",
        "\u23a3-1.0  3.0   -3.0  1.0\u23a6"
       ]
      }
     ],
     "prompt_number": 18
    },
    {
     "cell_type": "code",
     "collapsed": false,
     "input": [
      "B = array([[1,0, 0, 0], [0, 1, 0, 0], [0,1, 1, 0], [0, 1, 2, 1]])\n",
      "Matrix(B)"
     ],
     "language": "python",
     "metadata": {},
     "outputs": [
      {
       "latex": [
        "$$\\left[\\begin{matrix}1 & 0 & 0 & 0\\\\0 & 1 & 0 & 0\\\\0 & 1 & 1 & 0\\\\0 & 1 & 2 & 1\\end{matrix}\\right]$$"
       ],
       "metadata": {},
       "output_type": "pyout",
       "png": "[encoded data removed]",
       "prompt_number": 30,
       "text": [
        "\u23a11  0  0  0\u23a4\n",
        "\u23a2          \u23a5\n",
        "\u23a20  1  0  0\u23a5\n",
        "\u23a2          \u23a5\n",
        "\u23a20  1  1  0\u23a5\n",
        "\u23a2          \u23a5\n",
        "\u23a30  1  2  1\u23a6"
       ]
      }
     ],
     "prompt_number": 30
    },
    {
     "cell_type": "code",
     "collapsed": false,
     "input": [
      "# fun\n",
      "Matrix(dot(B, inv(A)))"
     ],
     "language": "python",
     "metadata": {},
     "outputs": [
      {
       "latex": [
        "$$\\left[\\begin{matrix}1.0 & 0.0 & 0.0 & 0.0\\\\1.0 & 1.0 & 0.0 & 0.0\\\\2.0 & 3.0 & 1.0 & 0.0\\\\0.0 & 0.0 & 0.0 & 1.0\\end{matrix}\\right]$$"
       ],
       "metadata": {},
       "output_type": "pyout",
       "png": "[encoded data removed]",
       "prompt_number": 31,
       "text": [
        "\u23a11.0  0.0  0.0  0.0\u23a4\n",
        "\u23a2                  \u23a5\n",
        "\u23a21.0  1.0  0.0  0.0\u23a5\n",
        "\u23a2                  \u23a5\n",
        "\u23a22.0  3.0  1.0  0.0\u23a5\n",
        "\u23a2                  \u23a5\n",
        "\u23a30.0  0.0  0.0  1.0\u23a6"
       ]
      }
     ],
     "prompt_number": 31
    },
    {
     "cell_type": "markdown",
     "metadata": {},
     "source": [
      "<a id='factALU'></a>\n",
      "## Factorization into $\\mathbf{A = LU}$\n"
     ]
    },
    {
     "cell_type": "markdown",
     "metadata": {},
     "source": [
      "http://ocw.mit.edu/courses/mathematics/18-06sc-linear-algebra-fall-2011/ax-b-and-the-four-subspaces/factorization-into-a-lu/"
     ]
    },
    {
     "cell_type": "markdown",
     "metadata": {},
     "source": [
      "$\\mathbf{AA^{-1}=I=A^{-1}A}$\n",
      "\n",
      "$\\mathbf{(AB)(B^{-1}A^{-1})=I}$\n",
      "\n",
      "$\\mathbf{ABB^{-1}A^{-1}=I=I^T}$\n",
      "\n",
      "$\\mathbf{(A^{-1})^TA^T}=\\mathbf{I}$"
     ]
    },
    {
     "cell_type": "markdown",
     "metadata": {},
     "source": [
      "---\n",
      "\n",
      "**Example**\n",
      "\n",
      "$\n",
      "\\mathbf{E_{21}}\n",
      "\\stackrel{\\mathbf{A}}{\n",
      "\\begin{bmatrix}\n",
      "    2&1\\\\\n",
      "    8&7\\\\\n",
      "    \\end{bmatrix}\n",
      "}=\n",
      "\\stackrel{\\mathbf{U}}{\n",
      "\\begin{bmatrix}\n",
      "    2&1\\\\\n",
      "    0&3\\\\\n",
      "    \\end{bmatrix}\n",
      "}\n",
      "$\n",
      "\n",
      "Now figure out $\\mathbf{E_{21}}$...which he somehow does in his head. If you aint as matrixly inclined you do $\\mathbf{E_{21} = UA^{-1}}$\n",
      "\n",
      "$\n",
      "\\stackrel{\\mathbf{E_{21}}}{\n",
      "\\begin{bmatrix}\n",
      "    1&0\\\\\n",
      "    -4&1\\\\\n",
      "    \\end{bmatrix}\n",
      "}\n",
      "\\stackrel{\\mathbf{A}}{\n",
      "\\begin{bmatrix}\n",
      "    2&1\\\\\n",
      "    8&7\\\\\n",
      "    \\end{bmatrix}\n",
      "}=\n",
      "\\stackrel{\\mathbf{U}}{\n",
      "\\begin{bmatrix}\n",
      "    2&1\\\\\n",
      "    0&3\\\\\n",
      "    \\end{bmatrix}\n",
      "}\n",
      "$"
     ]
    },
    {
     "cell_type": "markdown",
     "metadata": {},
     "source": [
      "$\\mathbf{L}$ he also figures out in his head.\n",
      "\n",
      "$\\mathbf{A=LU}$\n",
      "\n",
      "$\\mathbf{AU^{-1}=L}$\n",
      "\n",
      "\n",
      "$\n",
      "\\stackrel{\\mathbf{A}}{\n",
      "\\begin{bmatrix}\n",
      "    2&1\\\\\n",
      "    8&7\\\\\n",
      "    \\end{bmatrix}\n",
      "}=\n",
      "\\stackrel{\\mathbf{L}}{\n",
      "\\begin{bmatrix}\n",
      "    1&0\\\\\n",
      "    4&1\\\\\n",
      "    \\end{bmatrix}\n",
      "}\n",
      "\\stackrel{\\mathbf{U}}{\n",
      "\\begin{bmatrix}\n",
      "    2&1\\\\\n",
      "    0&3\\\\\n",
      "    \\end{bmatrix}\n",
      "}\n",
      "$"
     ]
    },
    {
     "cell_type": "code",
     "collapsed": false,
     "input": [
      "a = array([[2,1], [8,7]])\n",
      "u = array([[2, 1],[0, 3]])\n",
      "Matrix(dot(u, inv(a)))"
     ],
     "language": "python",
     "metadata": {},
     "outputs": [
      {
       "latex": [
        "$$\\left[\\begin{matrix}1.0 & 5.55111512312578 \\cdot 10^{-17}\\\\-4.0 & 1.0\\end{matrix}\\right]$$"
       ],
       "metadata": {},
       "output_type": "pyout",
       "png": "[encoded data removed]",
       "prompt_number": 15,
       "text": [
        "\u23a11.0   5.55111512312578e-17\u23a4\n",
        "\u23a2                          \u23a5\n",
        "\u23a3-4.0          1.0         \u23a6"
       ]
      }
     ],
     "prompt_number": 15
    },
    {
     "cell_type": "code",
     "collapsed": false,
     "input": [
      "l=dot(a, inv(u))\n",
      "Matrix(l)"
     ],
     "language": "python",
     "metadata": {},
     "outputs": [
      {
       "latex": [
        "$$\\left[\\begin{matrix}1.0 & 0.0\\\\4.0 & 1.0\\end{matrix}\\right]$$"
       ],
       "metadata": {},
       "output_type": "pyout",
       "png": "[encoded data removed]",
       "prompt_number": 18,
       "text": [
        "\u23a11.0  0.0\u23a4\n",
        "\u23a2        \u23a5\n",
        "\u23a34.0  1.0\u23a6"
       ]
      }
     ],
     "prompt_number": 18
    },
    {
     "cell_type": "markdown",
     "metadata": {},
     "source": [
      "$\\mathbf{U}$ stands for upper triangular\n",
      "\n",
      "$\\mathbf{L}$ stands for lower triangular\n",
      "\n",
      "$\\mathbf{D}$ stands for diagonal"
     ]
    },
    {
     "cell_type": "markdown",
     "metadata": {},
     "source": [
      "$\n",
      "\\stackrel{\\mathbf{U_{old}}}{\n",
      "\\begin{bmatrix}\n",
      "    2&1\\\\\n",
      "    0&3\\\\\n",
      "    \\end{bmatrix}\n",
      "}=\n",
      "\\stackrel{\\mathbf{D}}{\n",
      "\\begin{bmatrix}\n",
      "    2&0\\\\\n",
      "    0&3\\\\\n",
      "    \\end{bmatrix}\n",
      "}\n",
      "\\stackrel{\\mathbf{U_{new}}}{\n",
      "\\begin{bmatrix}\n",
      "    1&\\frac{1}{2}\\\\\n",
      "    0&1\\\\\n",
      "    \\end{bmatrix}\n",
      "}\n",
      "$\n",
      "\n",
      "\n",
      "$\n",
      "\\stackrel{\\mathbf{A}}{\n",
      "\\begin{bmatrix}\n",
      "    2&1\\\\\n",
      "    8&7\\\\\n",
      "    \\end{bmatrix}\n",
      "}=\n",
      "\\stackrel{\\mathbf{L}}{\n",
      "\\begin{bmatrix}\n",
      "    1&0\\\\\n",
      "    4&1\\\\\n",
      "    \\end{bmatrix}\n",
      "}\n",
      "\\stackrel{\\mathbf{D}}{\n",
      "\\begin{bmatrix}\n",
      "    2&0\\\\\n",
      "    0&3\\\\\n",
      "    \\end{bmatrix}\n",
      "}\n",
      "\\stackrel{\\mathbf{U}}{\n",
      "\\begin{bmatrix}\n",
      "    1&\\frac{1}{2}\\\\\n",
      "    0&1\\\\\n",
      "    \\end{bmatrix}\n",
      "}\n",
      "$\n",
      "\n",
      "\n",
      "He got the deconstruction of $\\mathbf{U_{old}}$ easily because $\\mathbf{D}$ is a diagonal matrix and therefore easy to multiply. Hint: Think about how one uses the Identity matrix\n"
     ]
    },
    {
     "cell_type": "code",
     "collapsed": false,
     "input": [
      "l = array([[1, 0], [4, 1]])\n",
      "u = array([[1, 0.5], [0, 1]])\n",
      "d = array([[2, 0], [0, 3]])\n",
      "Matrix(d), Matrix(l), Matrix(u)"
     ],
     "language": "python",
     "metadata": {},
     "outputs": [
      {
       "latex": [
        "$$\\begin{pmatrix}\\left[\\begin{matrix}2 & 0\\\\0 & 3\\end{matrix}\\right], & \\left[\\begin{matrix}1 & 0\\\\4 & 1\\end{matrix}\\right], & \\left[\\begin{matrix}1.0 & 0.5\\\\0.0 & 1.0\\end{matrix}\\right]\\end{pmatrix}$$"
       ],
       "metadata": {},
       "output_type": "pyout",
       "png": "[encoded data removed]",
       "prompt_number": 32,
       "text": [
        "\u239b\u23a12  0\u23a4, \u23a11  0\u23a4, \u23a11.0  0.5\u23a4\u239e\n",
        "\u239c\u23a2    \u23a5  \u23a2    \u23a5  \u23a2        \u23a5\u239f\n",
        "\u239d\u23a30  3\u23a6  \u23a34  1\u23a6  \u23a30.0  1.0\u23a6\u23a0"
       ]
      }
     ],
     "prompt_number": 32
    },
    {
     "cell_type": "code",
     "collapsed": false,
     "input": [
      "Matrix(dot(dot(l, d), u))==Matrix(a)"
     ],
     "language": "python",
     "metadata": {},
     "outputs": [
      {
       "metadata": {},
       "output_type": "pyout",
       "prompt_number": 33,
       "text": [
        "True"
       ]
      }
     ],
     "prompt_number": 33
    },
    {
     "cell_type": "markdown",
     "metadata": {},
     "source": [
      "---\n",
      "\n",
      "That was a $2\\times2$. Let's imagine a $3\\times3$\n",
      "\n",
      "First step is to get a $0$ is the $A_{21}$ position \n",
      "\n",
      "$\\mathbf{E_{21}A}$\n",
      "\n",
      "Next step is to get a $0$ is the $A_{31}$ position \n",
      "\n",
      "$\\mathbf{E_{31}E_{21}A}$\n",
      "\n",
      "Final step is to get a $0$ is the $A_{32}$ position \n",
      "\n",
      "$\\mathbf{E_{32}E_{31}E_{21}A=U}$ (no row exchanges)\n",
      "\n",
      "$\\mathbf{A=E_{21}^{-1}E_{31}^{-1}E_{32}^{-1}U}$\n",
      "\n",
      "$\\mathbf{A=LU}$\n",
      "\n",
      "remember\n",
      "\n",
      "$\\mathbf{(AB)(B^{-1}A^{-1})=I}$\n",
      "\n",
      "$\\therefore$\n",
      "\n",
      "$(\\mathbf{E_{32}E_{31}E_{21})(E_{21}^{-1}E_{31}^{-1}E_{32}^{-1}) = I}$\n",
      "\n"
     ]
    },
    {
     "cell_type": "markdown",
     "metadata": {},
     "source": [
      "**Example**\n",
      "\n",
      "$\n",
      "\\stackrel{\\mathbf{E_{32}}}{\n",
      "\\begin{bmatrix}\n",
      "    1&0&0\\\\\n",
      "    0&1&0\\\\\n",
      "    0&-5&1\\\\\n",
      "    \\end{bmatrix}\n",
      "}\n",
      "\\stackrel{\\mathbf{E_{31}}}{\n",
      "\\begin{bmatrix}\n",
      "    1&0&0\\\\\n",
      "    0&1&0\\\\\n",
      "    0&0&1\\\\\n",
      "    \\end{bmatrix}\n",
      "}\n",
      "\\stackrel{\\mathbf{E_{21}}}{\n",
      "\\begin{bmatrix}\n",
      "    1&0&0\\\\\n",
      "    -2&1&0\\\\\n",
      "    0&0&1\\\\\n",
      "    \\end{bmatrix}\n",
      "}=\n",
      "$\n",
      "\n",
      "$\n",
      "\\stackrel{\\mathbf{E_{32}}}{\n",
      "\\begin{bmatrix}\n",
      "    1&0&0\\\\\n",
      "    0&1&0\\\\\n",
      "    0&-5&1\\\\\n",
      "    \\end{bmatrix}\n",
      "}\n",
      "\\stackrel{\\mathbf{E_{21}}}{\n",
      "\\begin{bmatrix}\n",
      "    1&0&0\\\\\n",
      "    -2&1&0\\\\\n",
      "    0&0&1\\\\\n",
      "    \\end{bmatrix}\n",
      "}=\n",
      "$"
     ]
    },
    {
     "cell_type": "code",
     "collapsed": false,
     "input": [
      "e32 = mat([[1, 0, 0], [0, 1, 0], [0, -5, 1]])\n",
      "e21 = mat([[1, 0, 0], [-2, 1, 0], [0, 0, 1]])\n",
      "Matrix(e32), Matrix(e21)"
     ],
     "language": "python",
     "metadata": {},
     "outputs": [
      {
       "latex": [
        "$$\\begin{pmatrix}\\left[\\begin{matrix}1 & 0 & 0\\\\0 & 1 & 0\\\\0 & -5 & 1\\end{matrix}\\right], & \\left[\\begin{matrix}1 & 0 & 0\\\\-2 & 1 & 0\\\\0 & 0 & 1\\end{matrix}\\right]\\end{pmatrix}$$"
       ],
       "metadata": {},
       "output_type": "pyout",
       "png": "[encoded data removed]",
       "prompt_number": 106,
       "text": [
        "\u239b\u23a11  0   0\u23a4, \u23a11   0  0\u23a4\u239e\n",
        "\u239c\u23a2        \u23a5  \u23a2        \u23a5\u239f\n",
        "\u239c\u23a20  1   0\u23a5  \u23a2-2  1  0\u23a5\u239f\n",
        "\u239c\u23a2        \u23a5  \u23a2        \u23a5\u239f\n",
        "\u239d\u23a30  -5  1\u23a6  \u23a30   0  1\u23a6\u23a0"
       ]
      }
     ],
     "prompt_number": 106
    },
    {
     "cell_type": "code",
     "collapsed": false,
     "input": [
      "Matrix(e32 * e21)"
     ],
     "language": "python",
     "metadata": {},
     "outputs": [
      {
       "latex": [
        "$$\\left[\\begin{matrix}1 & 0 & 0\\\\-2 & 1 & 0\\\\10 & -5 & 1\\end{matrix}\\right]$$"
       ],
       "metadata": {},
       "output_type": "pyout",
       "png": "[encoded data removed]",
       "prompt_number": 107,
       "text": [
        "\u23a11   0   0\u23a4\n",
        "\u23a2         \u23a5\n",
        "\u23a2-2  1   0\u23a5\n",
        "\u23a2         \u23a5\n",
        "\u23a310  -5  1\u23a6"
       ]
      }
     ],
     "prompt_number": 107
    },
    {
     "cell_type": "markdown",
     "metadata": {},
     "source": [
      "He doesn't like the 10 in row 3. It got there from row 1's downward cascading effects.\n",
      "\n",
      "Continuing with same example, let's do the inverses\n",
      "\n",
      "$(\\mathbf{E_{32}E_{31}E_{21})(E_{21}^{-1}E_{31}^{-1}E_{32}^{-1}) = I}$\n"
     ]
    },
    {
     "cell_type": "markdown",
     "metadata": {},
     "source": [
      "Notice how stupidly easy it is to take the inverse of $\\mathbf{E_{ij}}$\n",
      "\n",
      "$\n",
      "\\stackrel{\\mathbf{E_{21}}}{\n",
      "\\begin{bmatrix}\n",
      "    1&0&0\\\\\n",
      "    -2&1&0\\\\\n",
      "    0&0&1\\\\\n",
      "    \\end{bmatrix}\n",
      "},\n",
      "\\stackrel{\\mathbf{E_{21}^{-1}}}{\n",
      "\\begin{bmatrix}\n",
      "    1&0&0\\\\\n",
      "    2&1&0\\\\\n",
      "    0&0&1\\\\\n",
      "    \\end{bmatrix}\n",
      "}$\n",
      "\n",
      "$\n",
      "\\stackrel{\\mathbf{E_{31}}}{\n",
      "\\begin{bmatrix}\n",
      "    1&0&0\\\\\n",
      "    0&1&0\\\\\n",
      "    0&0&1\\\\\n",
      "    \\end{bmatrix}\n",
      "},\n",
      "\\stackrel{\\mathbf{E_{31}^{-1}}}{\n",
      "\\begin{bmatrix}\n",
      "    1&0&0\\\\\n",
      "    0&1&0\\\\\n",
      "    0&0&1\\\\\n",
      "    \\end{bmatrix}\n",
      "}$\n",
      "\n",
      "$\n",
      "\\stackrel{\\mathbf{E_{32}}}{\n",
      "\\begin{bmatrix}\n",
      "    1&0&0\\\\\n",
      "    0&1&0\\\\\n",
      "    0&-5&1\\\\\n",
      "    \\end{bmatrix}\n",
      "},\n",
      "\\stackrel{\\mathbf{E_{32}^{-1}}}{\n",
      "\\begin{bmatrix}\n",
      "    1&0&0\\\\\n",
      "    0&1&0\\\\\n",
      "    0&5&1\\\\\n",
      "    \\end{bmatrix}\n",
      "}\n",
      "$\n",
      "\n",
      "$\\mathbf{E_{21}^{-1}E_{31}^{-1}E_{32}^{-1}} =$\n",
      "\n",
      "$\\stackrel{\\mathbf{E_{21}^{-1}}}{\n",
      "\\begin{bmatrix}\n",
      "    1&0&0\\\\\n",
      "    2&1&0\\\\\n",
      "    0&0&1\\\\\n",
      "    \\end{bmatrix}\n",
      "}\n",
      "\\stackrel{\\mathbf{E_{32}^{-1}}}{\n",
      "\\begin{bmatrix}\n",
      "    1&0&0\\\\\n",
      "    0&1&0\\\\\n",
      "    0&5&1\\\\\n",
      "    \\end{bmatrix}\n",
      "}=\n",
      "\\stackrel{\\mathbf{L}}{\n",
      "    \\begin{bmatrix}\n",
      "    1&0&0\\\\\n",
      "    2&1&0\\\\\n",
      "    0&5&1\\\\\n",
      "    \\end{bmatrix}\n",
      "}\n",
      "$\n",
      "\n",
      "$\\mathbf{EA=U}$\n",
      "\n",
      "$\\mathbf{A=LU}$\n",
      "\n",
      "If no row exchanges, multipliers go directly into $\\mathbf{L}$\n",
      "\n",
      "getting $\\mathbf{L}$ is less work\n"
     ]
    },
    {
     "cell_type": "markdown",
     "metadata": {},
     "source": [
      "---\n",
      "\n",
      "**How many operations on a $n\\times n$ matrix $\\mathbf{A}$?**\n",
      "\n",
      "say $n=100$\n",
      "\n",
      "one operation = (multiply + subtract)\n",
      "\n",
      "$100^2$ for the 1st operation. Need operation on each number in matrix\n",
      "\n",
      "$99^2$ for the 2nd operation. Need operation on each number in matrix\n",
      "\n",
      "$98^2$ for the 3rd operation. Need operation on each number in matrix\n",
      "\n",
      "$\\text{operations} = 100^2 + 99^2 ... 2^2 + 1^2$\n",
      "\n",
      "$\\sum\\limits_{i=1}^n n^2 \\approx \\dfrac{1}{3}n^3$\n",
      "\n",
      "$\\int_1^{n} n^2 \\, dn = \\dfrac{1}{3}n^3$\n",
      "\n",
      "That's what it cost on $\\mathbf{A}$ on the left to split it into $\\mathbf{L}$ and $\\mathbf{U}$\n",
      "\n",
      "The cost on $\\mathbf{B}$ on the right is $n^2$"
     ]
    },
    {
     "cell_type": "markdown",
     "metadata": {},
     "source": [
      "---\n",
      "\n",
      "<a id='permutations'></a>\n",
      "### Permutations\n",
      "\n",
      "$\\mathbf{P}$: execute row exchanges\n",
      "\n",
      "If a $0$ shows up in a pivot position, you need the liberty to exchange the row with one below. You might have to do it more than one time\n",
      "\n",
      "You start with $\\mathbf{A}$, you start elimination, and you may find out that you need row exchanges\n",
      "\n",
      "$\\mathbf{A = LU}$\n",
      "\n",
      "<img src='images/alu.png' width=500/>\n",
      "\n",
      "The implicit $\\mathbf{P}$ is above $\\mathbf{I}$\n",
      "\n",
      "Software doesn't like pivots close to $0$, so it'll do exchanges that alegbra says is unnecessary\n",
      "\n",
      "$\\mathbf{PA = LU}$ is the description with row exchanges\n",
      "\n",
      "$\\mathbf{P}:$ identity matrix with reordered rows\n",
      "\n",
      "$n!$ possible $\\mathbf{P}$'s, where $\\mathbf{P}$ is $n\\times n$\n",
      "\n",
      "$\\mathbf{P^{-1} = P^T}$\n",
      "\n",
      "$\\mathbf{P^{T}P=I}$\n",
      "\n",
      "\n",
      "**What happens if there are row exchanges?**\n",
      "\n",
      "$\\mathbf{P} = \n",
      "\\begin{bmatrix}\n",
      "1&0&0\\\\\n",
      "0&1&0\\\\\n",
      "0&0&1\\\\\n",
      "\\end{bmatrix}$\n",
      ",\n",
      "$\\begin{bmatrix}\n",
      "0&1&0\\\\\n",
      "1&0&0\\\\\n",
      "0&0&1\\\\\n",
      "\\end{bmatrix}$\n",
      ",\n",
      "$\\begin{bmatrix}\n",
      "0&0&1\\\\\n",
      "0&1&0\\\\\n",
      "1&0&0\\\\\n",
      "\\end{bmatrix}$\n",
      ",\n",
      "$\\begin{bmatrix}\n",
      "1&0&0\\\\\n",
      "0&0&1\\\\\n",
      "0&1&0\\\\\n",
      "\\end{bmatrix}$\n",
      "$,\n",
      "\\begin{bmatrix}\n",
      "0&1&0\\\\\n",
      "0&0&1\\\\\n",
      "1&0&0\\\\\n",
      "\\end{bmatrix}$\n",
      "$,\n",
      "\\begin{bmatrix}\n",
      "0&0&1\\\\\n",
      "1&0&0\\\\\n",
      "0&1&0\\\\\n",
      "\\end{bmatrix}$\n",
      "\n",
      "6 $\\mathbf{P} = 3!$\n",
      "\n",
      "$\\mathbf{P^{-1} = P^T}$\n",
      "\n",
      "For a $4\\times 4$ matrix, there are $4!$ of $\\mathbf{P}$"
     ]
    },
    {
     "cell_type": "markdown",
     "metadata": {},
     "source": [
      "** hw **\n",
      "\n",
      "What E puts A into triangular form EA=U."
     ]
    },
    {
     "cell_type": "code",
     "collapsed": false,
     "input": [
      "a = mat([[1, 3, 0], [2, 4, 0], [2, 0, 1]])\n",
      "e21 = mat([[1, 0, 0], [-2, 1, 0], [-2, 0, 1]])\n",
      "e32 = mat([[1, 0, 0], [0, 1, 0], [0, -3, 1]])\n",
      "Matrix(a), Matrix(e21), Matrix(e32)"
     ],
     "language": "python",
     "metadata": {},
     "outputs": [
      {
       "latex": [
        "$$\\begin{pmatrix}\\left[\\begin{matrix}1 & 3 & 0\\\\2 & 4 & 0\\\\2 & 0 & 1\\end{matrix}\\right], & \\left[\\begin{matrix}1 & 0 & 0\\\\-2 & 1 & 0\\\\-2 & 0 & 1\\end{matrix}\\right], & \\left[\\begin{matrix}1 & 0 & 0\\\\0 & 1 & 0\\\\0 & -3 & 1\\end{matrix}\\right]\\end{pmatrix}$$"
       ],
       "metadata": {},
       "output_type": "pyout",
       "png": "[encoded data removed]",
       "prompt_number": 99,
       "text": [
        "\u239b\u23a11  3  0\u23a4, \u23a11   0  0\u23a4, \u23a11  0   0\u23a4\u239e\n",
        "\u239c\u23a2       \u23a5  \u23a2        \u23a5  \u23a2        \u23a5\u239f\n",
        "\u239c\u23a22  4  0\u23a5  \u23a2-2  1  0\u23a5  \u23a20  1   0\u23a5\u239f\n",
        "\u239c\u23a2       \u23a5  \u23a2        \u23a5  \u23a2        \u23a5\u239f\n",
        "\u239d\u23a32  0  1\u23a6  \u23a3-2  0  1\u23a6  \u23a30  -3  1\u23a6\u23a0"
       ]
      }
     ],
     "prompt_number": 99
    },
    {
     "cell_type": "code",
     "collapsed": false,
     "input": [
      "# damn. python linalg syntax blows. re: use np.linalg.mat instead of np.linalg.array\n",
      "u = e32 * e21 * a\n",
      "Matrix(u)"
     ],
     "language": "python",
     "metadata": {},
     "outputs": [
      {
       "latex": [
        "$$\\left[\\begin{matrix}1 & 3 & 0\\\\0 & -2 & 0\\\\2 & 10 & 1\\end{matrix}\\right]$$"
       ],
       "metadata": {},
       "output_type": "pyout",
       "png": "[encoded data removed]",
       "prompt_number": 110,
       "text": [
        "\u23a11  3   0\u23a4\n",
        "\u23a2        \u23a5\n",
        "\u23a20  -2  0\u23a5\n",
        "\u23a2        \u23a5\n",
        "\u23a32  10  1\u23a6"
       ]
      }
     ],
     "prompt_number": 110
    },
    {
     "cell_type": "code",
     "collapsed": false,
     "input": [
      "l = inv(e21)  * inv(e32)"
     ],
     "language": "python",
     "metadata": {},
     "outputs": [],
     "prompt_number": 111
    },
    {
     "cell_type": "code",
     "collapsed": false,
     "input": [
      "Matrix(l)"
     ],
     "language": "python",
     "metadata": {},
     "outputs": [
      {
       "latex": [
        "$$\\left[\\begin{matrix}1.0 & 0.0 & 0.0\\\\2.0 & 1.0 & 0.0\\\\0.0 & 5.0 & 1.0\\end{matrix}\\right]$$"
       ],
       "metadata": {},
       "output_type": "pyout",
       "png": "[encoded data removed]",
       "prompt_number": 112,
       "text": [
        "\u23a11.0  0.0  0.0\u23a4\n",
        "\u23a2             \u23a5\n",
        "\u23a22.0  1.0  0.0\u23a5\n",
        "\u23a2             \u23a5\n",
        "\u23a30.0  5.0  1.0\u23a6"
       ]
      }
     ],
     "prompt_number": 112
    },
    {
     "cell_type": "code",
     "collapsed": false,
     "input": [
      "Matrix(l * u)"
     ],
     "language": "python",
     "metadata": {},
     "outputs": [
      {
       "latex": [
        "$$\\left[\\begin{matrix}1.0 & 3.0 & 0.0\\\\2.0 & 4.0 & 0.0\\\\2.0 & 0.0 & 1.0\\end{matrix}\\right]$$"
       ],
       "metadata": {},
       "output_type": "pyout",
       "png": "[encoded data removed]",
       "prompt_number": 113,
       "text": [
        "\u23a11.0  3.0  0.0\u23a4\n",
        "\u23a2             \u23a5\n",
        "\u23a22.0  4.0  0.0\u23a5\n",
        "\u23a2             \u23a5\n",
        "\u23a32.0  0.0  1.0\u23a6"
       ]
      }
     ],
     "prompt_number": 113
    },
    {
     "cell_type": "code",
     "collapsed": false,
     "input": [
      "a, b, c, d = symbols('a,b,c,d')"
     ],
     "language": "python",
     "metadata": {},
     "outputs": [],
     "prompt_number": 115
    },
    {
     "cell_type": "code",
     "collapsed": false,
     "input": [
      "A = mat([[a, a, a, a], [a, b, b,b], [a, b, c, c], [a, b, c,d]])"
     ],
     "language": "python",
     "metadata": {},
     "outputs": [],
     "prompt_number": 116
    },
    {
     "cell_type": "code",
     "collapsed": false,
     "input": [
      "# calced e's by paper\n",
      "e21 = mat([[1, 0,0,0], [-1, 1, 0,0], [-1,0, 1, 0], [-1, 0, 0,1]])\n",
      "e32 = mat([[1, 0,0,0], [0, 1, 0,0], [0,-1, 1, 0], [0, -1, 0,1]])\n",
      "e43 = mat([[1, 0,0,0], [0, 1, 0,0], [0,0, 1, 0], [0, 0, -1,1]])"
     ],
     "language": "python",
     "metadata": {},
     "outputs": [],
     "prompt_number": 117
    },
    {
     "cell_type": "code",
     "collapsed": false,
     "input": [
      "Matrix(e21 * A)"
     ],
     "language": "python",
     "metadata": {},
     "outputs": [
      {
       "latex": [
        "$$\\left[\\begin{matrix}a & a & a & a\\\\0 & - a + b & - a + b & - a + b\\\\0 & - a + b & - a + c & - a + c\\\\0 & - a + b & - a + c & - a + d\\end{matrix}\\right]$$"
       ],
       "metadata": {},
       "output_type": "pyout",
       "png": "[encoded data removed]",
       "prompt_number": 118,
       "text": [
        "\u23a1a    a       a       a   \u23a4\n",
        "\u23a2                         \u23a5\n",
        "\u23a20  -a + b  -a + b  -a + b\u23a5\n",
        "\u23a2                         \u23a5\n",
        "\u23a20  -a + b  -a + c  -a + c\u23a5\n",
        "\u23a2                         \u23a5\n",
        "\u23a30  -a + b  -a + c  -a + d\u23a6"
       ]
      }
     ],
     "prompt_number": 118
    },
    {
     "cell_type": "code",
     "collapsed": false,
     "input": [
      "Matrix(e32 * e21 * A)"
     ],
     "language": "python",
     "metadata": {},
     "outputs": [
      {
       "latex": [
        "$$\\left[\\begin{matrix}a & a & a & a\\\\0 & - a + b & - a + b & - a + b\\\\0 & 0 & - b + c & - b + c\\\\0 & 0 & - b + c & - b + d\\end{matrix}\\right]$$"
       ],
       "metadata": {},
       "output_type": "pyout",
       "png": "[encoded data removed]",
       "prompt_number": 119,
       "text": [
        "\u23a1a    a       a       a   \u23a4\n",
        "\u23a2                         \u23a5\n",
        "\u23a20  -a + b  -a + b  -a + b\u23a5\n",
        "\u23a2                         \u23a5\n",
        "\u23a20    0     -b + c  -b + c\u23a5\n",
        "\u23a2                         \u23a5\n",
        "\u23a30    0     -b + c  -b + d\u23a6"
       ]
      }
     ],
     "prompt_number": 119
    },
    {
     "cell_type": "code",
     "collapsed": false,
     "input": [
      "U = e43 * e32 * e21 * A\n",
      "Matrix(U)"
     ],
     "language": "python",
     "metadata": {},
     "outputs": [
      {
       "latex": [
        "$$\\left[\\begin{matrix}a & a & a & a\\\\0 & - a + b & - a + b & - a + b\\\\0 & 0 & - b + c & - b + c\\\\0 & 0 & 0 & - c + d\\end{matrix}\\right]$$"
       ],
       "metadata": {},
       "output_type": "pyout",
       "png": "[encoded data removed]",
       "prompt_number": 121,
       "text": [
        "\u23a1a    a       a       a   \u23a4\n",
        "\u23a2                         \u23a5\n",
        "\u23a20  -a + b  -a + b  -a + b\u23a5\n",
        "\u23a2                         \u23a5\n",
        "\u23a20    0     -b + c  -b + c\u23a5\n",
        "\u23a2                         \u23a5\n",
        "\u23a30    0       0     -c + d\u23a6"
       ]
      }
     ],
     "prompt_number": 121
    },
    {
     "cell_type": "code",
     "collapsed": false,
     "input": [
      "L = e21**-1 * e32**-1 * e43**-1\n",
      "Matrix(L)"
     ],
     "language": "python",
     "metadata": {},
     "outputs": [
      {
       "latex": [
        "$$\\left[\\begin{matrix}1.0 & 0.0 & 0.0 & 0.0\\\\1.0 & 1.0 & 0.0 & 0.0\\\\1.0 & 1.0 & 1.0 & 0.0\\\\1.0 & 1.0 & 1.0 & 1.0\\end{matrix}\\right]$$"
       ],
       "metadata": {},
       "output_type": "pyout",
       "png": "[encoded data removed]",
       "prompt_number": 127,
       "text": [
        "\u23a11.0  0.0  0.0  0.0\u23a4\n",
        "\u23a2                  \u23a5\n",
        "\u23a21.0  1.0  0.0  0.0\u23a5\n",
        "\u23a2                  \u23a5\n",
        "\u23a21.0  1.0  1.0  0.0\u23a5\n",
        "\u23a2                  \u23a5\n",
        "\u23a31.0  1.0  1.0  1.0\u23a6"
       ]
      }
     ],
     "prompt_number": 127
    },
    {
     "cell_type": "code",
     "collapsed": false,
     "input": [
      "Matrix(L * U)"
     ],
     "language": "python",
     "metadata": {},
     "outputs": [
      {
       "latex": [
        "$$\\left[\\begin{matrix}1.0 a & 1.0 a & 1.0 a & 1.0 a\\\\1.0 a & 1.0 b & 1.0 b & 1.0 b\\\\1.0 a & 1.0 b & 1.0 c & 1.0 c\\\\1.0 a & 1.0 b & 1.0 c & 1.0 d\\end{matrix}\\right]$$"
       ],
       "metadata": {},
       "output_type": "pyout",
       "png": "[encoded data removed]",
       "prompt_number": 132,
       "text": [
        "\u23a11.0\u22c5a  1.0\u22c5a  1.0\u22c5a  1.0\u22c5a\u23a4\n",
        "\u23a2                          \u23a5\n",
        "\u23a21.0\u22c5a  1.0\u22c5b  1.0\u22c5b  1.0\u22c5b\u23a5\n",
        "\u23a2                          \u23a5\n",
        "\u23a21.0\u22c5a  1.0\u22c5b  1.0\u22c5c  1.0\u22c5c\u23a5\n",
        "\u23a2                          \u23a5\n",
        "\u23a31.0\u22c5a  1.0\u22c5b  1.0\u22c5c  1.0\u22c5d\u23a6"
       ]
      }
     ],
     "prompt_number": 132
    },
    {
     "cell_type": "markdown",
     "metadata": {},
     "source": [
      "### My own example"
     ]
    },
    {
     "cell_type": "code",
     "collapsed": false,
     "input": [
      "a = mat([[1, 3, 4], [4, 5, 9], [8, 3, 1]])\n",
      "Matrix(a)"
     ],
     "language": "python",
     "metadata": {},
     "outputs": [
      {
       "latex": [
        "$$\\left[\\begin{matrix}1 & 3 & 4\\\\4 & 5 & 9\\\\8 & 3 & 1\\end{matrix}\\right]$$"
       ],
       "metadata": {},
       "output_type": "pyout",
       "png": "[encoded data removed]",
       "prompt_number": 134,
       "text": [
        "\u23a11  3  4\u23a4\n",
        "\u23a2       \u23a5\n",
        "\u23a24  5  9\u23a5\n",
        "\u23a2       \u23a5\n",
        "\u23a38  3  1\u23a6"
       ]
      }
     ],
     "prompt_number": 134
    },
    {
     "cell_type": "code",
     "collapsed": false,
     "input": [
      "L = mat([[1, 0, 0], [9, 1, 0], [4, 3, 1]])\n",
      "Matrix(L)"
     ],
     "language": "python",
     "metadata": {},
     "outputs": [
      {
       "latex": [
        "$$\\left[\\begin{matrix}1 & 0 & 0\\\\9 & 1 & 0\\\\4 & 3 & 1\\end{matrix}\\right]$$"
       ],
       "metadata": {},
       "output_type": "pyout",
       "png": "[encoded data removed]",
       "prompt_number": 140,
       "text": [
        "\u23a11  0  0\u23a4\n",
        "\u23a2       \u23a5\n",
        "\u23a29  1  0\u23a5\n",
        "\u23a2       \u23a5\n",
        "\u23a34  3  1\u23a6"
       ]
      }
     ],
     "prompt_number": 140
    },
    {
     "cell_type": "code",
     "collapsed": false,
     "input": [
      "P, L, U = [mat(_) for _ in lu(a)]"
     ],
     "language": "python",
     "metadata": {},
     "outputs": [],
     "prompt_number": 160
    },
    {
     "cell_type": "code",
     "collapsed": false,
     "input": [
      "[Matrix(_) for _ in [P, L, U]]"
     ],
     "language": "python",
     "metadata": {},
     "outputs": [
      {
       "latex": [
        "$$\\begin{bmatrix}\\left[\\begin{matrix}0.0 & 0.0 & 1.0\\\\0.0 & 1.0 & 0.0\\\\1.0 & 0.0 & 0.0\\end{matrix}\\right], & \\left[\\begin{matrix}1.0 & 0.0 & 0.0\\\\0.5 & 1.0 & 0.0\\\\0.125 & 0.75 & 1.0\\end{matrix}\\right], & \\left[\\begin{matrix}8.0 & 3.0 & 1.0\\\\0.0 & 3.5 & 8.5\\\\0.0 & 0.0 & -2.5\\end{matrix}\\right]\\end{bmatrix}$$"
       ],
       "metadata": {},
       "output_type": "pyout",
       "png": "[encoded data removed]",
       "prompt_number": 166,
       "text": [
        "\u23a1\u23a10.0  0.0  1.0\u23a4, \u23a1 1.0   0.0   0.0\u23a4, \u23a18.0  3.0  1.0 \u23a4\u23a4\n",
        "\u23a2\u23a2             \u23a5  \u23a2                \u23a5  \u23a2              \u23a5\u23a5\n",
        "\u23a2\u23a20.0  1.0  0.0\u23a5  \u23a2 0.5   1.0   0.0\u23a5  \u23a20.0  3.5  8.5 \u23a5\u23a5\n",
        "\u23a2\u23a2             \u23a5  \u23a2                \u23a5  \u23a2              \u23a5\u23a5\n",
        "\u23a3\u23a31.0  0.0  0.0\u23a6  \u23a30.125  0.75  1.0\u23a6  \u23a30.0  0.0  -2.5\u23a6\u23a6"
       ]
      }
     ],
     "prompt_number": 166
    },
    {
     "cell_type": "code",
     "collapsed": false,
     "input": [
      "P*L*U == a"
     ],
     "language": "python",
     "metadata": {},
     "outputs": [
      {
       "metadata": {},
       "output_type": "pyout",
       "prompt_number": 171,
       "text": [
        "matrix([[ True,  True,  True],\n",
        "        [ True,  True,  True],\n",
        "        [ True,  True,  True]], dtype=bool)"
       ]
      }
     ],
     "prompt_number": 171
    },
    {
     "cell_type": "markdown",
     "metadata": {},
     "source": [
      "<a id='transpermsvectorspaces'></a>\n",
      "## Transposes, Permutations, Vector Spaces\n",
      "\n",
      "http://ocw.mit.edu/courses/mathematics/18-06sc-linear-algebra-fall-2011/ax-b-and-the-four-subspaces/transposes-permutations-vector-spaces/"
     ]
    },
    {
     "cell_type": "markdown",
     "metadata": {},
     "source": [
      "[Permutations](#permutations)"
     ]
    },
    {
     "cell_type": "markdown",
     "metadata": {},
     "source": [
      "### Transpose"
     ]
    },
    {
     "cell_type": "code",
     "collapsed": false,
     "input": [
      "A = mat([[1, 3], [2, 3], [4, 1]])"
     ],
     "language": "python",
     "metadata": {},
     "outputs": [],
     "prompt_number": 175
    },
    {
     "cell_type": "code",
     "collapsed": false,
     "input": [
      "# 3x2\n",
      "Matrix(A)"
     ],
     "language": "python",
     "metadata": {},
     "outputs": [
      {
       "latex": [
        "$$\\left[\\begin{matrix}3 & 1 & 7\\\\1 & 2 & 9\\\\7 & 9 & 4\\end{matrix}\\right]$$"
       ],
       "metadata": {},
       "output_type": "pyout",
       "png": "[encoded data removed]",
       "prompt_number": 201,
       "text": [
        "\u23a13  1  7\u23a4\n",
        "\u23a2       \u23a5\n",
        "\u23a21  2  9\u23a5\n",
        "\u23a2       \u23a5\n",
        "\u23a37  9  4\u23a6"
       ]
      }
     ],
     "prompt_number": 201
    },
    {
     "cell_type": "code",
     "collapsed": false,
     "input": [
      "# 2x3\n",
      "Matrix(A.T)"
     ],
     "language": "python",
     "metadata": {},
     "outputs": [
      {
       "latex": [
        "$$\\left[\\begin{matrix}1 & 2 & 4\\\\3 & 3 & 1\\end{matrix}\\right]$$"
       ],
       "metadata": {},
       "output_type": "pyout",
       "png": "[encoded data removed]",
       "prompt_number": 183,
       "text": [
        "\u23a11  2  4\u23a4\n",
        "\u23a2       \u23a5\n",
        "\u23a33  3  1\u23a6"
       ]
      }
     ],
     "prompt_number": 183
    },
    {
     "cell_type": "markdown",
     "metadata": {},
     "source": [
      "$\\mathbf{A^T_{ij} = A_{ji}}$"
     ]
    },
    {
     "cell_type": "markdown",
     "metadata": {},
     "source": [
      "### Symmetric matrices\n",
      "\n",
      "$\\mathbf{A^T=A}$"
     ]
    },
    {
     "cell_type": "code",
     "collapsed": false,
     "input": [
      "A = mat([[3, 1, 7], [1, 2, 9], [7, 9, 4]])\n",
      "Matrix(A)"
     ],
     "language": "python",
     "metadata": {},
     "outputs": [
      {
       "latex": [
        "$$\\left[\\begin{matrix}3 & 1 & 7\\\\1 & 2 & 9\\\\7 & 9 & 4\\end{matrix}\\right]$$"
       ],
       "metadata": {},
       "output_type": "pyout",
       "png": "[encoded data removed]",
       "prompt_number": 187,
       "text": [
        "\u23a13  1  7\u23a4\n",
        "\u23a2       \u23a5\n",
        "\u23a21  2  9\u23a5\n",
        "\u23a2       \u23a5\n",
        "\u23a37  9  4\u23a6"
       ]
      }
     ],
     "prompt_number": 187
    },
    {
     "cell_type": "code",
     "collapsed": false,
     "input": [
      "Matrix(A.T)"
     ],
     "language": "python",
     "metadata": {},
     "outputs": [
      {
       "latex": [
        "$$\\left[\\begin{matrix}3 & 1 & 7\\\\1 & 2 & 9\\\\7 & 9 & 4\\end{matrix}\\right]$$"
       ],
       "metadata": {},
       "output_type": "pyout",
       "png": "[encoded data removed]",
       "prompt_number": 189,
       "text": [
        "\u23a13  1  7\u23a4\n",
        "\u23a2       \u23a5\n",
        "\u23a21  2  9\u23a5\n",
        "\u23a2       \u23a5\n",
        "\u23a37  9  4\u23a6"
       ]
      }
     ],
     "prompt_number": 189
    },
    {
     "cell_type": "markdown",
     "metadata": {},
     "source": [
      "$\\mathbf{R^TR}$ is always symettric. $\\mathbf{R}$ can be any shape"
     ]
    },
    {
     "cell_type": "code",
     "collapsed": false,
     "input": [
      "R = mat([[1, 3], [2, 3], [4, 1]])\n",
      "Matrix(R)"
     ],
     "language": "python",
     "metadata": {},
     "outputs": [
      {
       "latex": [
        "$$\\left[\\begin{matrix}1 & 3\\\\2 & 3\\\\4 & 1\\end{matrix}\\right]$$"
       ],
       "metadata": {},
       "output_type": "pyout",
       "png": "[encoded data removed]",
       "prompt_number": 191,
       "text": [
        "\u23a11  3\u23a4\n",
        "\u23a2    \u23a5\n",
        "\u23a22  3\u23a5\n",
        "\u23a2    \u23a5\n",
        "\u23a34  1\u23a6"
       ]
      }
     ],
     "prompt_number": 191
    },
    {
     "cell_type": "code",
     "collapsed": false,
     "input": [
      "Matrix(R.T * R)"
     ],
     "language": "python",
     "metadata": {},
     "outputs": [
      {
       "latex": [
        "$$\\left[\\begin{matrix}21 & 13\\\\13 & 19\\end{matrix}\\right]$$"
       ],
       "metadata": {},
       "output_type": "pyout",
       "png": "[encoded data removed]",
       "prompt_number": 193,
       "text": [
        "\u23a121  13\u23a4\n",
        "\u23a2      \u23a5\n",
        "\u23a313  19\u23a6"
       ]
      }
     ],
     "prompt_number": 193
    },
    {
     "cell_type": "code",
     "collapsed": false,
     "input": [
      "Matrix(R * R.T)"
     ],
     "language": "python",
     "metadata": {},
     "outputs": [
      {
       "latex": [
        "$$\\left[\\begin{matrix}10 & 11 & 7\\\\11 & 13 & 11\\\\7 & 11 & 17\\end{matrix}\\right]$$"
       ],
       "metadata": {},
       "output_type": "pyout",
       "png": "[encoded data removed]",
       "prompt_number": 194,
       "text": [
        "\u23a110  11  7 \u23a4\n",
        "\u23a2          \u23a5\n",
        "\u23a211  13  11\u23a5\n",
        "\u23a2          \u23a5\n",
        "\u23a37   11  17\u23a6"
       ]
      }
     ],
     "prompt_number": 194
    },
    {
     "cell_type": "markdown",
     "metadata": {},
     "source": [
      "$\\mathbf{(R^TR)^T}=$\n",
      "\n",
      "put the matrices in opposite order and transpose them\n",
      "\n",
      "$\\mathbf{R^TR^{TT}}=$\n",
      "\n",
      "$\\mathbf{R^TR}$\n",
      "\n",
      "which shows $\\mathbf{R^R}$ is always symettric"
     ]
    },
    {
     "cell_type": "code",
     "collapsed": false,
     "input": [
      "Matrix((R.T * R).T)"
     ],
     "language": "python",
     "metadata": {},
     "outputs": [
      {
       "latex": [
        "$$\\left[\\begin{matrix}21 & 13\\\\13 & 19\\end{matrix}\\right]$$"
       ],
       "metadata": {},
       "output_type": "pyout",
       "png": "[encoded data removed]",
       "prompt_number": 196,
       "text": [
        "\u23a121  13\u23a4\n",
        "\u23a2      \u23a5\n",
        "\u23a313  19\u23a6"
       ]
      }
     ],
     "prompt_number": 196
    },
    {
     "cell_type": "markdown",
     "metadata": {},
     "source": [
      "### Vector Spaces\n",
      "\n",
      "$\\Re^2=$ all 2-dim vectors = $xy$ plane\n",
      "\n",
      "Examples:\n",
      "\n",
      "$\\begin{bmatrix}\n",
      "3\\\\2\\\\\n",
      "\\end{bmatrix},\n",
      "\\begin{bmatrix}\n",
      "0\\\\0\\\\\n",
      "\\end{bmatrix},\n",
      "\\begin{bmatrix}\n",
      "e\\\\\\pi\\\\\n",
      "\\end{bmatrix}$\n",
      "\n",
      "$\\Re^3=$ all column vectors with $3$ real components\n",
      "\n",
      "$\\Re^n=$ all column vectors with $n$ real components\n",
      "\n",
      "---\n",
      "Not a vector space:\n",
      "\n",
      "<img src='images/notvectorspace.png'/>\n",
      "\n",
      "Multiplying vectors in the upper right will land outside of the space, thus it isn't a vector space\n",
      "\n",
      "Subspaces of  $\\Re^2$:\n",
      "\n",
      "1. All of $\\Re^2$\n",
      "1. Any line through $\\begin{bmatrix}0\\\\0\\\\\\end{bmatrix}$\n",
      "1. zero vector itself\n",
      "\n",
      "Subspaces of  $\\Re^3$:\n",
      "\n",
      "1. All of $\\Re^3$\n",
      "1. Any line through $\\begin{bmatrix}0\\\\0\\\\0\\\\\\end{bmatrix}$\n",
      "1. zero vector itself"
     ]
    },
    {
     "cell_type": "markdown",
     "metadata": {},
     "source": [
      "**Example**\n",
      "\n",
      "Start with matrix:\n",
      "\n",
      "$\\mathbf{A}=\\left[\\begin{matrix}1 & 3\\\\2 & 3\\\\4 & 1\\end{matrix}\\right]$\n",
      "\n",
      "Columns in $\\Re^3$. I want those columns in my subspace\n",
      "\n",
      "All their linear combinations form a subspace called a **column space** $\\mathbf{C(A)}$\n",
      "\n",
      "not satisfied with a bunch of vectors, we want a space of vectors.\n",
      "\n",
      "All linear combinations of $\\left[\\begin{matrix}1\\\\2\\\\4\\end{matrix}\\right]$ and \n",
      "$\\left[\\begin{matrix}3\\\\3\\\\1\\end{matrix}\\right]$ form a plane"
     ]
    },
    {
     "cell_type": "markdown",
     "metadata": {},
     "source": [
      "** hw 5.1**"
     ]
    },
    {
     "cell_type": "code",
     "collapsed": false,
     "input": [
      "# fuck I love ipython\n",
      "r1 = [1, 0, 0]\n",
      "r2 = [0, 1, 0]\n",
      "r3 = [0, 0, 1]\n",
      "rows = [r1, r2, r3]\n",
      "from itertools import permutations\n",
      "\n",
      "ps = [mat(_) for _ in permutations(rows, 3)]\n",
      "I = ps[0]\n",
      "ps = ps[1:]"
     ],
     "language": "python",
     "metadata": {},
     "outputs": [],
     "prompt_number": 295
    },
    {
     "cell_type": "code",
     "collapsed": false,
     "input": [
      "[Matrix(_) for _ in ps]"
     ],
     "language": "python",
     "metadata": {},
     "outputs": [
      {
       "latex": [
        "$$\\begin{bmatrix}\\left[\\begin{matrix}1 & 0 & 0\\\\0 & 0 & 1\\\\0 & 1 & 0\\end{matrix}\\right], & \\left[\\begin{matrix}0 & 1 & 0\\\\1 & 0 & 0\\\\0 & 0 & 1\\end{matrix}\\right], & \\left[\\begin{matrix}0 & 1 & 0\\\\0 & 0 & 1\\\\1 & 0 & 0\\end{matrix}\\right], & \\left[\\begin{matrix}0 & 0 & 1\\\\1 & 0 & 0\\\\0 & 1 & 0\\end{matrix}\\right], & \\left[\\begin{matrix}0 & 0 & 1\\\\0 & 1 & 0\\\\1 & 0 & 0\\end{matrix}\\right]\\end{bmatrix}$$"
       ],
       "metadata": {},
       "output_type": "pyout",
       "png": "[encoded data removed]",
       "prompt_number": 296,
       "text": [
        "\u23a1\u23a11  0  0\u23a4, \u23a10  1  0\u23a4, \u23a10  1  0\u23a4, \u23a10  0  1\u23a4, \u23a10  0  1\u23a4\u23a4\n",
        "\u23a2\u23a2       \u23a5  \u23a2       \u23a5  \u23a2       \u23a5  \u23a2       \u23a5  \u23a2       \u23a5\u23a5\n",
        "\u23a2\u23a20  0  1\u23a5  \u23a21  0  0\u23a5  \u23a20  0  1\u23a5  \u23a21  0  0\u23a5  \u23a20  1  0\u23a5\u23a5\n",
        "\u23a2\u23a2       \u23a5  \u23a2       \u23a5  \u23a2       \u23a5  \u23a2       \u23a5  \u23a2       \u23a5\u23a5\n",
        "\u23a3\u23a30  1  0\u23a6  \u23a30  0  1\u23a6  \u23a31  0  0\u23a6  \u23a30  1  0\u23a6  \u23a31  0  0\u23a6\u23a6"
       ]
      }
     ],
     "prompt_number": 296
    },
    {
     "cell_type": "code",
     "collapsed": false,
     "input": [
      "# The ones that work need to be shifted 3 times\n",
      "# remember that P tells you which rows to take. square it, it transform to a different P. Then mult by the original P.\n",
      "# Could have possibly done this whole thing mentally :>\n",
      "[np.array_equal(p**3, I) for p in ps]"
     ],
     "language": "python",
     "metadata": {},
     "outputs": [
      {
       "metadata": {},
       "output_type": "pyout",
       "prompt_number": 297,
       "text": [
        "[False, False, True, True, False]"
       ]
      }
     ],
     "prompt_number": 297
    },
    {
     "cell_type": "markdown",
     "metadata": {},
     "source": [
      "Find $\\mathbf{\\hat P^4 \\neq I}$\n",
      "\n",
      "What does $\\mathbf{\\hat P}$ mean?"
     ]
    },
    {
     "cell_type": "code",
     "collapsed": false,
     "input": [
      "r1 = [1, 0, 0, 0]\n",
      "r2 = [0, 1, 0, 0]\n",
      "r3 = [0, 0, 1, 0]\n",
      "r4 = [0, 0, 0, 1]\n",
      "\n",
      "rows = [r1, r2, r3, r4]\n",
      "from itertools import permutations\n",
      "\n",
      "ps = [mat(_) for _ in permutations(rows, 4)]\n",
      "I = ps[0]\n",
      "ps = ps[1:]"
     ],
     "language": "python",
     "metadata": {},
     "outputs": [],
     "prompt_number": 264
    },
    {
     "cell_type": "code",
     "collapsed": false,
     "input": [
      "[Matrix(_) for _ in ps[:5]]"
     ],
     "language": "python",
     "metadata": {},
     "outputs": [
      {
       "latex": [
        "$$\\begin{bmatrix}\\left[\\begin{matrix}1 & 0 & 0 & 0\\\\0 & 1 & 0 & 0\\\\0 & 0 & 0 & 1\\\\0 & 0 & 1 & 0\\end{matrix}\\right], & \\left[\\begin{matrix}1 & 0 & 0 & 0\\\\0 & 0 & 1 & 0\\\\0 & 1 & 0 & 0\\\\0 & 0 & 0 & 1\\end{matrix}\\right], & \\left[\\begin{matrix}1 & 0 & 0 & 0\\\\0 & 0 & 1 & 0\\\\0 & 0 & 0 & 1\\\\0 & 1 & 0 & 0\\end{matrix}\\right], & \\left[\\begin{matrix}1 & 0 & 0 & 0\\\\0 & 0 & 0 & 1\\\\0 & 1 & 0 & 0\\\\0 & 0 & 1 & 0\\end{matrix}\\right], & \\left[\\begin{matrix}1 & 0 & 0 & 0\\\\0 & 0 & 0 & 1\\\\0 & 0 & 1 & 0\\\\0 & 1 & 0 & 0\\end{matrix}\\right]\\end{bmatrix}$$"
       ],
       "metadata": {},
       "output_type": "pyout",
       "png": "[encoded data removed]",
       "prompt_number": 279,
       "text": [
        "\u23a1\u23a11  0  0  0\u23a4, \u23a11  0  0  0\u23a4, \u23a11  0  0  0\u23a4, \u23a11  0  0  0\u23a4, \u23a11  0  0  0\u23a4\u23a4\n",
        "\u23a2\u23a2          \u23a5  \u23a2          \u23a5  \u23a2          \u23a5  \u23a2          \u23a5  \u23a2          \u23a5\u23a5\n",
        "\u23a2\u23a20  1  0  0\u23a5  \u23a20  0  1  0\u23a5  \u23a20  0  1  0\u23a5  \u23a20  0  0  1\u23a5  \u23a20  0  0  1\u23a5\u23a5\n",
        "\u23a2\u23a2          \u23a5  \u23a2          \u23a5  \u23a2          \u23a5  \u23a2          \u23a5  \u23a2          \u23a5\u23a5\n",
        "\u23a2\u23a20  0  0  1\u23a5  \u23a20  1  0  0\u23a5  \u23a20  0  0  1\u23a5  \u23a20  1  0  0\u23a5  \u23a20  0  1  0\u23a5\u23a5\n",
        "\u23a2\u23a2          \u23a5  \u23a2          \u23a5  \u23a2          \u23a5  \u23a2          \u23a5  \u23a2          \u23a5\u23a5\n",
        "\u23a3\u23a30  0  1  0\u23a6  \u23a30  0  0  1\u23a6  \u23a30  1  0  0\u23a6  \u23a30  0  1  0\u23a6  \u23a30  1  0  0\u23a6\u23a6"
       ]
      }
     ],
     "prompt_number": 279
    },
    {
     "cell_type": "code",
     "collapsed": false,
     "input": [
      "[Matrix(p) for p in ps if not np.array_equal(p**4, I)]"
     ],
     "language": "python",
     "metadata": {},
     "outputs": [
      {
       "latex": [
        "$$\\begin{bmatrix}\\left[\\begin{matrix}1 & 0 & 0 & 0\\\\0 & 0 & 1 & 0\\\\0 & 0 & 0 & 1\\\\0 & 1 & 0 & 0\\end{matrix}\\right], & \\left[\\begin{matrix}1 & 0 & 0 & 0\\\\0 & 0 & 0 & 1\\\\0 & 1 & 0 & 0\\\\0 & 0 & 1 & 0\\end{matrix}\\right], & \\left[\\begin{matrix}0 & 1 & 0 & 0\\\\0 & 0 & 1 & 0\\\\1 & 0 & 0 & 0\\\\0 & 0 & 0 & 1\\end{matrix}\\right], & \\left[\\begin{matrix}0 & 1 & 0 & 0\\\\0 & 0 & 0 & 1\\\\0 & 0 & 1 & 0\\\\1 & 0 & 0 & 0\\end{matrix}\\right], & \\left[\\begin{matrix}0 & 0 & 1 & 0\\\\1 & 0 & 0 & 0\\\\0 & 1 & 0 & 0\\\\0 & 0 & 0 & 1\\end{matrix}\\right], & \\left[\\begin{matrix}0 & 0 & 1 & 0\\\\0 & 1 & 0 & 0\\\\0 & 0 & 0 & 1\\\\1 & 0 & 0 & 0\\end{matrix}\\right], & \\left[\\begin{matrix}0 & 0 & 0 & 1\\\\1 & 0 & 0 & 0\\\\0 & 0 & 1 & 0\\\\0 & 1 & 0 & 0\\end{matrix}\\right], & \\left[\\begin{matrix}0 & 0 & 0 & 1\\\\0 & 1 & 0 & 0\\\\1 & 0 & 0 & 0\\\\0 & 0 & 1 & 0\\end{matrix}\\right]\\end{bmatrix}$$"
       ],
       "metadata": {},
       "output_type": "pyout",
       "png": "[encoded data removed]",
       "prompt_number": 275,
       "text": [
        "\u23a1\u23a11  0  0  0\u23a4, \u23a11  0  0  0\u23a4, \u23a10  1  0  0\u23a4, \u23a10  1  0  0\u23a4, \u23a10  0  1  0\u23a4, \u23a10  0  \n",
        "\u23a2\u23a2          \u23a5  \u23a2          \u23a5  \u23a2          \u23a5  \u23a2          \u23a5  \u23a2          \u23a5  \u23a2      \n",
        "\u23a2\u23a20  0  1  0\u23a5  \u23a20  0  0  1\u23a5  \u23a20  0  1  0\u23a5  \u23a20  0  0  1\u23a5  \u23a21  0  0  0\u23a5  \u23a20  1  \n",
        "\u23a2\u23a2          \u23a5  \u23a2          \u23a5  \u23a2          \u23a5  \u23a2          \u23a5  \u23a2          \u23a5  \u23a2      \n",
        "\u23a2\u23a20  0  0  1\u23a5  \u23a20  1  0  0\u23a5  \u23a21  0  0  0\u23a5  \u23a20  0  1  0\u23a5  \u23a20  1  0  0\u23a5  \u23a20  0  \n",
        "\u23a2\u23a2          \u23a5  \u23a2          \u23a5  \u23a2          \u23a5  \u23a2          \u23a5  \u23a2          \u23a5  \u23a2      \n",
        "\u23a3\u23a30  1  0  0\u23a6  \u23a30  0  1  0\u23a6  \u23a30  0  0  1\u23a6  \u23a31  0  0  0\u23a6  \u23a30  0  0  1\u23a6  \u23a31  0  \n",
        "\n",
        "1  0\u23a4, \u23a10  0  0  1\u23a4, \u23a10  0  0  1\u23a4\u23a4\n",
        "    \u23a5  \u23a2          \u23a5  \u23a2          \u23a5\u23a5\n",
        "0  0\u23a5  \u23a21  0  0  0\u23a5  \u23a20  1  0  0\u23a5\u23a5\n",
        "    \u23a5  \u23a2          \u23a5  \u23a2          \u23a5\u23a5\n",
        "0  1\u23a5  \u23a20  0  1  0\u23a5  \u23a21  0  0  0\u23a5\u23a5\n",
        "    \u23a5  \u23a2          \u23a5  \u23a2          \u23a5\u23a5\n",
        "0  0\u23a6  \u23a30  1  0  0\u23a6  \u23a30  0  1  0\u23a6\u23a6"
       ]
      }
     ],
     "prompt_number": 275
    },
    {
     "cell_type": "markdown",
     "metadata": {},
     "source": [
      "** HW 5.2**"
     ]
    },
    {
     "cell_type": "markdown",
     "metadata": {},
     "source": [
      "Problem 5.2: \n",
      "\n",
      "Suppose $\\mathbf{A}$ is a four by four matrix. \n",
      "\n",
      "How many entries of $\\mathbf{A}$ can be chosen independently if:\n",
      "\n",
      "a) $\\mathbf{A}$ is symmetric?\n",
      "\n",
      "One triangle and the diagonal. That leaves 6 dependent, therefore 10.\n",
      "\n",
      "b) $\\mathbf{A}$ is skew-symmetric? $\\mathbf{A^T = \u2212A}$\n",
      "\n",
      "You have the 0 diagonal matrix. that's $4*4 - 4 = 12$ left. Half can be independent, $\\therefore 6$."
     ]
    },
    {
     "cell_type": "markdown",
     "metadata": {},
     "source": [
      "** HW 5.3 **\n",
      "\n",
      "True or False?\n",
      "\n",
      "a) The symmetric matrices in $\\mathbf{M}$ (with $\\mathbf{A^T = A}$) form a subspace\n",
      "\n",
      "False. A^T is a multiple of A"
     ]
    },
    {
     "cell_type": "code",
     "collapsed": false,
     "input": [
      "r1 = [1, -1, 3]\n",
      "r2 = [-1, 1, 4]\n",
      "r3 = [ 3, 4, 1]\n",
      "A =mat([r1, r2, r3])\n",
      "np.array_equal(A, A.T)"
     ],
     "language": "python",
     "metadata": {},
     "outputs": [
      {
       "metadata": {},
       "output_type": "pyout",
       "prompt_number": 298,
       "text": [
        "True"
       ]
      }
     ],
     "prompt_number": 298
    },
    {
     "cell_type": "code",
     "collapsed": false,
     "input": [
      "A + A.T"
     ],
     "language": "python",
     "metadata": {},
     "outputs": [
      {
       "metadata": {},
       "output_type": "pyout",
       "prompt_number": 299,
       "text": [
        "matrix([[ 2, -2,  6],\n",
        "        [-2,  2,  8],\n",
        "        [ 6,  8,  2]])"
       ]
      }
     ],
     "prompt_number": 299
    },
    {
     "cell_type": "code",
     "collapsed": false,
     "input": [
      "A"
     ],
     "language": "python",
     "metadata": {},
     "outputs": [
      {
       "metadata": {},
       "output_type": "pyout",
       "prompt_number": 300,
       "text": [
        "matrix([[ 1, -1,  3],\n",
        "        [-1,  1,  4],\n",
        "        [ 3,  4,  1]])"
       ]
      }
     ],
     "prompt_number": 300
    },
    {
     "cell_type": "markdown",
     "metadata": {},
     "source": [
      "b) The skew-symmetric matrices in $\\mathbf{M}$ (with $\\mathbf{A^T = -A}$) form a subspace\n",
      "\n",
      "False"
     ]
    },
    {
     "cell_type": "markdown",
     "metadata": {},
     "source": [
      "c) The unsymmetric matrices in $\\mathbf{M}$ (with $\\mathbf{A^T \\neq A}$) form a subspace.\n",
      "\n",
      "True"
     ]
    },
    {
     "cell_type": "markdown",
     "metadata": {},
     "source": [
      "### Recitation\n",
      "\n",
      "Linear space and linear subspace\n",
      "\n",
      "Conditions for a set to be a linear space:\n",
      "\n",
      "1. Take any two elements from the set and add them, and you get an element in the set.\n",
      "1. Take any multiple of a element in the set, the result will still be in that set\n",
      "1. If within a linear space you can find a subset which satisfies the two above conditions, it is a subspace\n",
      "\n",
      "$x_1=\n",
      "\\begin{bmatrix}\n",
      "0\\\\1\\\\3\n",
      "\\end{bmatrix}\n",
      "x_2=\n",
      "\\begin{bmatrix}\n",
      "2\\\\4\\\\0\n",
      "\\end{bmatrix}\n",
      "$\n",
      "\n",
      "**1**\n",
      "\n",
      "Find $v_1$ subspace generated by $x_1$. By generated, we mean the smallest subspace possible.\n",
      "\n",
      "Find $v_2$ subspace generated by $x_2$\n",
      "\n",
      "Describe $v_1 \\cap v_2$"
     ]
    },
    {
     "cell_type": "markdown",
     "metadata": {},
     "source": []
    },
    {
     "cell_type": "markdown",
     "metadata": {},
     "source": [
      "**2**\n",
      "\n",
      "Find $v_3$, subspace generaged by $\\{x_1, x_2\\}$\n",
      "\n",
      "Is $v_3$ equal to $v_1 \\cup v_2$?\n",
      "\n",
      "Find a subspace $S$ of $v_3$ s.t. $x_1 \\notin S, x_2 \\notin S$"
     ]
    },
    {
     "cell_type": "markdown",
     "metadata": {},
     "source": [
      "**3**\n",
      "\n",
      "What is $v_3 \\cap xy_{plane}$"
     ]
    },
    {
     "cell_type": "code",
     "collapsed": false,
     "input": [],
     "language": "python",
     "metadata": {},
     "outputs": []
    }
   ],
   "metadata": {}
  }
 ]
}